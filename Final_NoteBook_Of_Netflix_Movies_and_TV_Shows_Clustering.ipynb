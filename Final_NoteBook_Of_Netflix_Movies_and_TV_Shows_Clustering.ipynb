{
  "nbformat": 4,
  "nbformat_minor": 0,
  "metadata": {
    "colab": {
      "provenance": [],
      "authorship_tag": "ABX9TyNjNh6Ecf/cVNh/uEhzttwU",
      "include_colab_link": true
    },
    "kernelspec": {
      "name": "python3",
      "display_name": "Python 3"
    },
    "language_info": {
      "name": "python"
    }
  },
  "cells": [
    {
      "cell_type": "markdown",
      "metadata": {
        "id": "view-in-github",
        "colab_type": "text"
      },
      "source": [
        "<a href=\"https://colab.research.google.com/github/devsuvendu/Netflix-Movies-and-TV-Shows-Clustering/blob/main/Final_NoteBook_Of_Netflix_Movies_and_TV_Shows_Clustering.ipynb\" target=\"_parent\"><img src=\"https://colab.research.google.com/assets/colab-badge.svg\" alt=\"Open In Colab\"/></a>"
      ]
    },
    {
      "cell_type": "markdown",
      "source": [
        "![Untitled.png](data:image/png;base64,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)"
      ],
      "metadata": {
        "id": "H4UqAaAa_pSq"
      }
    },
    {
      "cell_type": "markdown",
      "source": [
        "**Project Type** - Unsupervised Machine Learning\n",
        "\n",
        "**Contribution** - Team\n",
        "\n",
        "**Team Member 1** - Abhishek kumar\n",
        "\n",
        "**Team Member 2** - Suvendu Dey\n",
        "\n",
        "**Team Member 3** - Ranjit Biswal"
      ],
      "metadata": {
        "id": "MQMXR1if_8Uu"
      }
    },
    {
      "cell_type": "markdown",
      "source": [
        "# **Project Summary** -"
      ],
      "metadata": {
        "id": "4FeCqwZ3ARWN"
      }
    },
    {
      "cell_type": "markdown",
      "source": [
        "![netflix-logo.webp](data:image/webp;base64,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)"
      ],
      "metadata": {
        "id": "OLOsgXKFPl6v"
      }
    },
    {
      "cell_type": "markdown",
      "source": [
        "Netflix, the world’s largest on-demand internet streaming media and online DVD movie rental service provider.it Founded August 29, 1997, in Los Gatos, California by Marc and Reed. It has 69 million members in over 60 countries enjoying more than 100 million hours of TV shows and movies per day Netflix is the world’s leading internet entertainment service with enjoying TV series, documentaries, and feature films across a wide variety of genres and languages. I was curious to analyze the content released in Netflix platform which led me to create these simple, interactive, and exciting visualizations and find similar groups of people.\n",
        "\n",
        "\n",
        "\n",
        "\n",
        "This dataset consists of tv shows and movies available on Netflix as of 2019. The dataset is collected from Fixable which is a third-party Netflix search engine. In 2018, they released an interesting report which shows that the number of TV shows on Netflix has nearly tripled since 2010. The streaming service’s number of movies has decreased by more than 2,000 titles since 2010, while its number of TV shows has nearly tripled. It will be interesting to explore what all other insights can be obtained from the same dataset. Integrating this dataset with other external datasets such as IMDB ratings, rotten tomatoes can also provide many interesting findings."
      ],
      "metadata": {
        "id": "PQ0GIXUeXmNT"
      }
    },
    {
      "cell_type": "markdown",
      "source": [
        "# **Github Link** -"
      ],
      "metadata": {
        "id": "tm2U2ROyA35S"
      }
    },
    {
      "cell_type": "markdown",
      "source": [
        "**1. Suvendu Dey** - https://github.com/devsuvendu/Netflix-Movies-and-TV-Shows-Clustering\n",
        "\n",
        "**2. Abhishek Kumar** -https://github.com/Developer-AD/NETFLIX-MOVIES-AND-TV-SHOWS-CLUSTERING\n",
        "\n",
        "**3. Ranjit Biswal** - https://github.com/Ranjitcnb/NETFLIX-MOVIES-AND-TV-SHOWS-CLUSTERING"
      ],
      "metadata": {
        "id": "kVA6IWvwA9bt"
      }
    },
    {
      "cell_type": "markdown",
      "source": [
        "# **Problem Statement**"
      ],
      "metadata": {
        "id": "33VxBf-rBN2e"
      }
    },
    {
      "cell_type": "markdown",
      "source": [
        "*This dataset consists of tv shows and movies available on Netflix as of 2019. The dataset is collected from Flixable which is a third-party Netflix search engine.*\n",
        "\n",
        "*In 2018, they released an interesting report which shows that the number of TV shows on Netflix has nearly tripled since 2010. The streaming service’s number of movies has decreased by more than 2,000 titles since 2010, while its number of TV shows has nearly tripled. It will be interesting to explore what all other insights can be obtained from the same dataset.*\n",
        "\n",
        "*Integrating this dataset with other external datasets such as IMDB ratings, rotten tomatoes can also provide many interesting findings.*"
      ],
      "metadata": {
        "id": "B2F8RqQeBXYh"
      }
    },
    {
      "cell_type": "markdown",
      "source": [
        "# **AIM**"
      ],
      "metadata": {
        "id": "ZReAH4XHuajU"
      }
    },
    {
      "cell_type": "markdown",
      "source": [
        "Our objective is to conduct an Exploratory Data Analysis to understand what content is available in different countries and if Netflix has been increasingly focusing on TV rather than movies in recent years. And use these insights to cluster similar content by matching text-based features."
      ],
      "metadata": {
        "id": "gb-ZJOp7ueXv"
      }
    },
    {
      "cell_type": "markdown",
      "source": [
        "# **Dataset Description** -"
      ],
      "metadata": {
        "id": "6DGsQbO_HN1u"
      }
    },
    {
      "cell_type": "markdown",
      "source": [
        "**1. show_id :** Unique ID for every Movie / Tv Show\n",
        "\n",
        "**2. type :** Identifier - A Movie or TV Show\n",
        "\n",
        "**3. title :** Title of the Movie / Tv Show\n",
        "\n",
        "**4. director :** Director of the Movie\n",
        "\n",
        "**5. cast :** Actors involved in the movie / show\n",
        "\n",
        "**6. country :** Country where the movie / show was produced\n",
        "\n",
        "**7. date_added :** Date it was added on Netflix\n",
        "\n",
        "**8. release_year :** Actual Releaseyear of the movie / show\n",
        "\n",
        "**9. rating :** TV Rating of the movie / show\n",
        "\n",
        "**10. duration :** Total Duration - in minutes or number of seasons\n",
        "\n",
        "**11. listed_in :** Genere\n",
        "\n",
        "**12. description:** The Summary description"
      ],
      "metadata": {
        "id": "G-Hj0e2PHygB"
      }
    },
    {
      "cell_type": "markdown",
      "source": [
        "#### **Define Your Business Objective?**"
      ],
      "metadata": {
        "id": "h76V02-QBkYx"
      }
    },
    {
      "cell_type": "markdown",
      "source": [
        "1. Exploratory Data Analysis.\n",
        "\n",
        "2. Understanding what type content is available in different countries.\n",
        "\n",
        "3. Is Netflix has increasingly focusing on TV rather than movies in recent years.\n",
        "\n",
        "4. Clustering similar content by matching text-based features."
      ],
      "metadata": {
        "id": "E2gEvb8CBqB3"
      }
    },
    {
      "cell_type": "markdown",
      "source": [
        "# ***Let's Begin !***"
      ],
      "metadata": {
        "id": "WT-6R9nKB4Ck"
      }
    },
    {
      "cell_type": "markdown",
      "source": [
        "First of all, import all required libraries like pandas, matplotlib,Sklearn,Scipy etc. These libraries are used to load, preprocess and visualize the dataset.Then loading data using the read_csv function of the pandas module."
      ],
      "metadata": {
        "id": "3vs4lFWkB8NP"
      }
    },
    {
      "cell_type": "markdown",
      "source": [
        "## ***1. Know Your Data***"
      ],
      "metadata": {
        "id": "Yz3w5sUHCAzH"
      }
    },
    {
      "cell_type": "markdown",
      "source": [
        "### Import Libraries"
      ],
      "metadata": {
        "id": "_bGu7ZtYCGNG"
      }
    },
    {
      "cell_type": "code",
      "source": [
        "# Import Libraries\n",
        "\n",
        "import numpy as np\n",
        "import pandas as pd\n",
        "from numpy import math\n",
        "import seaborn as sns\n",
        "import matplotlib.pyplot as plt\n",
        "import matplotlib.ticker as mtick\n",
        "from matplotlib.pyplot import figure\n",
        "import plotly.graph_objects as go\n",
        "import plotly.offline as py\n",
        "import plotly.express as px\n",
        "from datetime import datetime as dt\n",
        "\n",
        "from wordcloud import WordCloud, STOPWORDS\n",
        "import re, string, unicodedata\n",
        "\n",
        "import nltk\n",
        "from bs4 import BeautifulSoup\n",
        "from nltk import word_tokenize, sent_tokenize\n",
        "from nltk.corpus import stopwords\n",
        "from nltk.stem import LancasterStemmer, WordNetLemmatizer\n",
        "from nltk.stem import WordNetLemmatizer\n",
        "from sklearn.feature_extraction.text import TfidfVectorizer\n",
        "from sklearn.decomposition import PCA\n",
        "\n",
        "from nltk.stem import WordNetLemmatizer\n",
        "nltk.download('wordnet')\n",
        "import nltk\n",
        "nltk.download('stopwords')\n",
        "from nltk.corpus import stopwords\n",
        "import string\n",
        "string.punctuation\n",
        "nltk.download('omw-1.4')\n",
        "from nltk.tokenize import TweetTokenizer\n",
        "\n",
        "from sklearn.cluster import KMeans\n",
        "from sklearn.metrics import silhouette_score\n",
        "from sklearn.cluster import AgglomerativeClustering\n",
        "import scipy.cluster.hierarchy as shc\n",
        "\n",
        "from sklearn.feature_extraction.text import CountVectorizer\n",
        "from sklearn.metrics.pairwise import cosine_similarity\n",
        "\n",
        "import warnings\n",
        "warnings.filterwarnings('ignore')"
      ],
      "metadata": {
        "id": "c0DDp_7J_vq_",
        "colab": {
          "base_uri": "https://localhost:8080/"
        },
        "outputId": "a1541f94-6b61-4a76-9ed3-8c6361638612"
      },
      "execution_count": 1,
      "outputs": [
        {
          "output_type": "stream",
          "name": "stderr",
          "text": [
            "[nltk_data] Downloading package wordnet to /root/nltk_data...\n",
            "[nltk_data] Downloading package stopwords to /root/nltk_data...\n",
            "[nltk_data]   Unzipping corpora/stopwords.zip.\n",
            "[nltk_data] Downloading package omw-1.4 to /root/nltk_data...\n"
          ]
        }
      ]
    },
    {
      "cell_type": "code",
      "source": [
        "# Connect To Google Drive\n",
        "from google.colab import drive\n",
        "drive.mount('/content/Drive/') # suvendu drive connect\n",
        "#drive.mount('/content/drive/') # AD drive connect\n",
        "#drive.mount('/content/DRIVE/') # Ranjit drive"
      ],
      "metadata": {
        "colab": {
          "base_uri": "https://localhost:8080/"
        },
        "id": "akR4cP98Au2_",
        "outputId": "f223fe60-a5e2-4abf-c0ca-9f5a4e3ffdbb"
      },
      "execution_count": 2,
      "outputs": [
        {
          "output_type": "stream",
          "name": "stdout",
          "text": [
            "Mounted at /content/Drive/\n"
          ]
        }
      ]
    },
    {
      "cell_type": "markdown",
      "source": [
        "### Dataset Loading"
      ],
      "metadata": {
        "id": "pZWTEmqyCaev"
      }
    },
    {
      "cell_type": "code",
      "source": [
        "#loading data using exception handling\n",
        "\n",
        "try:\n",
        "  # Load Dataset\n",
        "  file_path= '/content/Drive/MyDrive/CapstoneProject/NETFLIX_MOVIES_AND_TV_SHOWS_CLUSTERING.CSV' # suvendu path\n",
        "# file_path= '/content/drive/MyDrive/AlmaBetter/CapstoneProject/NETFLIX_MOVIES_AND_TV_SHOWS_CLUSTERING.CSV' #AD File path\n",
        "# file_path='/content/DRIVE/MyDrive/CapstoneProject3/NETFLIX_MOVIES_AND_TV_SHOWS_CLUSTERING.CSV' #ranjit file path\n",
        "  model_df=pd.read_csv(file_path)\n",
        "  df=model_df.copy()\n",
        "except FileNotFoundError:\n",
        "  print('Please provide correct file path for csv data')"
      ],
      "metadata": {
        "id": "qPibVox3_v2x"
      },
      "execution_count": 3,
      "outputs": []
    },
    {
      "cell_type": "markdown",
      "source": [
        "### Dataset First View"
      ],
      "metadata": {
        "id": "wNBHA1A8CidL"
      }
    },
    {
      "cell_type": "code",
      "source": [
        "# Dataset First Look\n",
        "df.head()"
      ],
      "metadata": {
        "colab": {
          "base_uri": "https://localhost:8080/",
          "height": 493
        },
        "id": "ouunWHBY_v5k",
        "outputId": "cad583dc-12b6-4a7a-b71e-1e13d3d57b8c"
      },
      "execution_count": 4,
      "outputs": [
        {
          "output_type": "execute_result",
          "data": {
            "text/plain": [
              "  show_id     type  title           director  \\\n",
              "0      s1  TV Show     3%                NaN   \n",
              "1      s2    Movie   7:19  Jorge Michel Grau   \n",
              "2      s3    Movie  23:59       Gilbert Chan   \n",
              "3      s4    Movie      9        Shane Acker   \n",
              "4      s5    Movie     21     Robert Luketic   \n",
              "\n",
              "                                                cast        country  \\\n",
              "0  João Miguel, Bianca Comparato, Michel Gomes, R...         Brazil   \n",
              "1  Demián Bichir, Héctor Bonilla, Oscar Serrano, ...         Mexico   \n",
              "2  Tedd Chan, Stella Chung, Henley Hii, Lawrence ...      Singapore   \n",
              "3  Elijah Wood, John C. Reilly, Jennifer Connelly...  United States   \n",
              "4  Jim Sturgess, Kevin Spacey, Kate Bosworth, Aar...  United States   \n",
              "\n",
              "          date_added  release_year rating   duration  \\\n",
              "0    August 14, 2020          2020  TV-MA  4 Seasons   \n",
              "1  December 23, 2016          2016  TV-MA     93 min   \n",
              "2  December 20, 2018          2011      R     78 min   \n",
              "3  November 16, 2017          2009  PG-13     80 min   \n",
              "4    January 1, 2020          2008  PG-13    123 min   \n",
              "\n",
              "                                           listed_in  \\\n",
              "0  International TV Shows, TV Dramas, TV Sci-Fi &...   \n",
              "1                       Dramas, International Movies   \n",
              "2                Horror Movies, International Movies   \n",
              "3  Action & Adventure, Independent Movies, Sci-Fi...   \n",
              "4                                             Dramas   \n",
              "\n",
              "                                         description  \n",
              "0  In a future where the elite inhabit an island ...  \n",
              "1  After a devastating earthquake hits Mexico Cit...  \n",
              "2  When an army recruit is found dead, his fellow...  \n",
              "3  In a postapocalyptic world, rag-doll robots hi...  \n",
              "4  A brilliant group of students become card-coun...  "
            ],
            "text/html": [
              "\n",
              "  <div id=\"df-b03801b8-bf37-4b81-bc83-8d86d7e963df\">\n",
              "    <div class=\"colab-df-container\">\n",
              "      <div>\n",
              "<style scoped>\n",
              "    .dataframe tbody tr th:only-of-type {\n",
              "        vertical-align: middle;\n",
              "    }\n",
              "\n",
              "    .dataframe tbody tr th {\n",
              "        vertical-align: top;\n",
              "    }\n",
              "\n",
              "    .dataframe thead th {\n",
              "        text-align: right;\n",
              "    }\n",
              "</style>\n",
              "<table border=\"1\" class=\"dataframe\">\n",
              "  <thead>\n",
              "    <tr style=\"text-align: right;\">\n",
              "      <th></th>\n",
              "      <th>show_id</th>\n",
              "      <th>type</th>\n",
              "      <th>title</th>\n",
              "      <th>director</th>\n",
              "      <th>cast</th>\n",
              "      <th>country</th>\n",
              "      <th>date_added</th>\n",
              "      <th>release_year</th>\n",
              "      <th>rating</th>\n",
              "      <th>duration</th>\n",
              "      <th>listed_in</th>\n",
              "      <th>description</th>\n",
              "    </tr>\n",
              "  </thead>\n",
              "  <tbody>\n",
              "    <tr>\n",
              "      <th>0</th>\n",
              "      <td>s1</td>\n",
              "      <td>TV Show</td>\n",
              "      <td>3%</td>\n",
              "      <td>NaN</td>\n",
              "      <td>João Miguel, Bianca Comparato, Michel Gomes, R...</td>\n",
              "      <td>Brazil</td>\n",
              "      <td>August 14, 2020</td>\n",
              "      <td>2020</td>\n",
              "      <td>TV-MA</td>\n",
              "      <td>4 Seasons</td>\n",
              "      <td>International TV Shows, TV Dramas, TV Sci-Fi &amp;...</td>\n",
              "      <td>In a future where the elite inhabit an island ...</td>\n",
              "    </tr>\n",
              "    <tr>\n",
              "      <th>1</th>\n",
              "      <td>s2</td>\n",
              "      <td>Movie</td>\n",
              "      <td>7:19</td>\n",
              "      <td>Jorge Michel Grau</td>\n",
              "      <td>Demián Bichir, Héctor Bonilla, Oscar Serrano, ...</td>\n",
              "      <td>Mexico</td>\n",
              "      <td>December 23, 2016</td>\n",
              "      <td>2016</td>\n",
              "      <td>TV-MA</td>\n",
              "      <td>93 min</td>\n",
              "      <td>Dramas, International Movies</td>\n",
              "      <td>After a devastating earthquake hits Mexico Cit...</td>\n",
              "    </tr>\n",
              "    <tr>\n",
              "      <th>2</th>\n",
              "      <td>s3</td>\n",
              "      <td>Movie</td>\n",
              "      <td>23:59</td>\n",
              "      <td>Gilbert Chan</td>\n",
              "      <td>Tedd Chan, Stella Chung, Henley Hii, Lawrence ...</td>\n",
              "      <td>Singapore</td>\n",
              "      <td>December 20, 2018</td>\n",
              "      <td>2011</td>\n",
              "      <td>R</td>\n",
              "      <td>78 min</td>\n",
              "      <td>Horror Movies, International Movies</td>\n",
              "      <td>When an army recruit is found dead, his fellow...</td>\n",
              "    </tr>\n",
              "    <tr>\n",
              "      <th>3</th>\n",
              "      <td>s4</td>\n",
              "      <td>Movie</td>\n",
              "      <td>9</td>\n",
              "      <td>Shane Acker</td>\n",
              "      <td>Elijah Wood, John C. Reilly, Jennifer Connelly...</td>\n",
              "      <td>United States</td>\n",
              "      <td>November 16, 2017</td>\n",
              "      <td>2009</td>\n",
              "      <td>PG-13</td>\n",
              "      <td>80 min</td>\n",
              "      <td>Action &amp; Adventure, Independent Movies, Sci-Fi...</td>\n",
              "      <td>In a postapocalyptic world, rag-doll robots hi...</td>\n",
              "    </tr>\n",
              "    <tr>\n",
              "      <th>4</th>\n",
              "      <td>s5</td>\n",
              "      <td>Movie</td>\n",
              "      <td>21</td>\n",
              "      <td>Robert Luketic</td>\n",
              "      <td>Jim Sturgess, Kevin Spacey, Kate Bosworth, Aar...</td>\n",
              "      <td>United States</td>\n",
              "      <td>January 1, 2020</td>\n",
              "      <td>2008</td>\n",
              "      <td>PG-13</td>\n",
              "      <td>123 min</td>\n",
              "      <td>Dramas</td>\n",
              "      <td>A brilliant group of students become card-coun...</td>\n",
              "    </tr>\n",
              "  </tbody>\n",
              "</table>\n",
              "</div>\n",
              "      <button class=\"colab-df-convert\" onclick=\"convertToInteractive('df-b03801b8-bf37-4b81-bc83-8d86d7e963df')\"\n",
              "              title=\"Convert this dataframe to an interactive table.\"\n",
              "              style=\"display:none;\">\n",
              "        \n",
              "  <svg xmlns=\"http://www.w3.org/2000/svg\" height=\"24px\"viewBox=\"0 0 24 24\"\n",
              "       width=\"24px\">\n",
              "    <path d=\"M0 0h24v24H0V0z\" fill=\"none\"/>\n",
              "    <path d=\"M18.56 5.44l.94 2.06.94-2.06 2.06-.94-2.06-.94-.94-2.06-.94 2.06-2.06.94zm-11 1L8.5 8.5l.94-2.06 2.06-.94-2.06-.94L8.5 2.5l-.94 2.06-2.06.94zm10 10l.94 2.06.94-2.06 2.06-.94-2.06-.94-.94-2.06-.94 2.06-2.06.94z\"/><path d=\"M17.41 7.96l-1.37-1.37c-.4-.4-.92-.59-1.43-.59-.52 0-1.04.2-1.43.59L10.3 9.45l-7.72 7.72c-.78.78-.78 2.05 0 2.83L4 21.41c.39.39.9.59 1.41.59.51 0 1.02-.2 1.41-.59l7.78-7.78 2.81-2.81c.8-.78.8-2.07 0-2.86zM5.41 20L4 18.59l7.72-7.72 1.47 1.35L5.41 20z\"/>\n",
              "  </svg>\n",
              "      </button>\n",
              "      \n",
              "  <style>\n",
              "    .colab-df-container {\n",
              "      display:flex;\n",
              "      flex-wrap:wrap;\n",
              "      gap: 12px;\n",
              "    }\n",
              "\n",
              "    .colab-df-convert {\n",
              "      background-color: #E8F0FE;\n",
              "      border: none;\n",
              "      border-radius: 50%;\n",
              "      cursor: pointer;\n",
              "      display: none;\n",
              "      fill: #1967D2;\n",
              "      height: 32px;\n",
              "      padding: 0 0 0 0;\n",
              "      width: 32px;\n",
              "    }\n",
              "\n",
              "    .colab-df-convert:hover {\n",
              "      background-color: #E2EBFA;\n",
              "      box-shadow: 0px 1px 2px rgba(60, 64, 67, 0.3), 0px 1px 3px 1px rgba(60, 64, 67, 0.15);\n",
              "      fill: #174EA6;\n",
              "    }\n",
              "\n",
              "    [theme=dark] .colab-df-convert {\n",
              "      background-color: #3B4455;\n",
              "      fill: #D2E3FC;\n",
              "    }\n",
              "\n",
              "    [theme=dark] .colab-df-convert:hover {\n",
              "      background-color: #434B5C;\n",
              "      box-shadow: 0px 1px 3px 1px rgba(0, 0, 0, 0.15);\n",
              "      filter: drop-shadow(0px 1px 2px rgba(0, 0, 0, 0.3));\n",
              "      fill: #FFFFFF;\n",
              "    }\n",
              "  </style>\n",
              "\n",
              "      <script>\n",
              "        const buttonEl =\n",
              "          document.querySelector('#df-b03801b8-bf37-4b81-bc83-8d86d7e963df button.colab-df-convert');\n",
              "        buttonEl.style.display =\n",
              "          google.colab.kernel.accessAllowed ? 'block' : 'none';\n",
              "\n",
              "        async function convertToInteractive(key) {\n",
              "          const element = document.querySelector('#df-b03801b8-bf37-4b81-bc83-8d86d7e963df');\n",
              "          const dataTable =\n",
              "            await google.colab.kernel.invokeFunction('convertToInteractive',\n",
              "                                                     [key], {});\n",
              "          if (!dataTable) return;\n",
              "\n",
              "          const docLinkHtml = 'Like what you see? Visit the ' +\n",
              "            '<a target=\"_blank\" href=https://colab.research.google.com/notebooks/data_table.ipynb>data table notebook</a>'\n",
              "            + ' to learn more about interactive tables.';\n",
              "          element.innerHTML = '';\n",
              "          dataTable['output_type'] = 'display_data';\n",
              "          await google.colab.output.renderOutput(dataTable, element);\n",
              "          const docLink = document.createElement('div');\n",
              "          docLink.innerHTML = docLinkHtml;\n",
              "          element.appendChild(docLink);\n",
              "        }\n",
              "      </script>\n",
              "    </div>\n",
              "  </div>\n",
              "  "
            ]
          },
          "metadata": {},
          "execution_count": 4
        }
      ]
    },
    {
      "cell_type": "markdown",
      "source": [
        "### Dataset last View"
      ],
      "metadata": {
        "id": "n67Qquk_CrFn"
      }
    },
    {
      "cell_type": "code",
      "source": [
        "# Dataset Last Look\n",
        "df.tail()"
      ],
      "metadata": {
        "colab": {
          "base_uri": "https://localhost:8080/",
          "height": 614
        },
        "id": "XfMCBz5X_v8H",
        "outputId": "c70aee0c-1137-4131-bac5-37946288d2e5"
      },
      "execution_count": 5,
      "outputs": [
        {
          "output_type": "execute_result",
          "data": {
            "text/plain": [
              "     show_id     type                                    title     director  \\\n",
              "7782   s7783    Movie                                     Zozo  Josef Fares   \n",
              "7783   s7784    Movie                                   Zubaan  Mozez Singh   \n",
              "7784   s7785    Movie                        Zulu Man in Japan          NaN   \n",
              "7785   s7786  TV Show                    Zumbo's Just Desserts          NaN   \n",
              "7786   s7787    Movie  ZZ TOP: THAT LITTLE OL' BAND FROM TEXAS     Sam Dunn   \n",
              "\n",
              "                                                   cast  \\\n",
              "7782  Imad Creidi, Antoinette Turk, Elias Gergi, Car...   \n",
              "7783  Vicky Kaushal, Sarah-Jane Dias, Raaghav Chanan...   \n",
              "7784                                            Nasty C   \n",
              "7785                         Adriano Zumbo, Rachel Khoo   \n",
              "7786                                                NaN   \n",
              "\n",
              "                                                country          date_added  \\\n",
              "7782  Sweden, Czech Republic, United Kingdom, Denmar...    October 19, 2020   \n",
              "7783                                              India       March 2, 2019   \n",
              "7784                                                NaN  September 25, 2020   \n",
              "7785                                          Australia    October 31, 2020   \n",
              "7786              United Kingdom, Canada, United States       March 1, 2020   \n",
              "\n",
              "      release_year rating  duration  \\\n",
              "7782          2005  TV-MA    99 min   \n",
              "7783          2015  TV-14   111 min   \n",
              "7784          2019  TV-MA    44 min   \n",
              "7785          2019  TV-PG  1 Season   \n",
              "7786          2019  TV-MA    90 min   \n",
              "\n",
              "                                              listed_in  \\\n",
              "7782                       Dramas, International Movies   \n",
              "7783     Dramas, International Movies, Music & Musicals   \n",
              "7784  Documentaries, International Movies, Music & M...   \n",
              "7785                 International TV Shows, Reality TV   \n",
              "7786                    Documentaries, Music & Musicals   \n",
              "\n",
              "                                            description  \n",
              "7782  When Lebanon's Civil War deprives Zozo of his ...  \n",
              "7783  A scrappy but poor boy worms his way into a ty...  \n",
              "7784  In this documentary, South African rapper Nast...  \n",
              "7785  Dessert wizard Adriano Zumbo looks for the nex...  \n",
              "7786  This documentary delves into the mystique behi...  "
            ],
            "text/html": [
              "\n",
              "  <div id=\"df-df5a4ed7-638b-4d2e-aaf0-fed971ec1fb9\">\n",
              "    <div class=\"colab-df-container\">\n",
              "      <div>\n",
              "<style scoped>\n",
              "    .dataframe tbody tr th:only-of-type {\n",
              "        vertical-align: middle;\n",
              "    }\n",
              "\n",
              "    .dataframe tbody tr th {\n",
              "        vertical-align: top;\n",
              "    }\n",
              "\n",
              "    .dataframe thead th {\n",
              "        text-align: right;\n",
              "    }\n",
              "</style>\n",
              "<table border=\"1\" class=\"dataframe\">\n",
              "  <thead>\n",
              "    <tr style=\"text-align: right;\">\n",
              "      <th></th>\n",
              "      <th>show_id</th>\n",
              "      <th>type</th>\n",
              "      <th>title</th>\n",
              "      <th>director</th>\n",
              "      <th>cast</th>\n",
              "      <th>country</th>\n",
              "      <th>date_added</th>\n",
              "      <th>release_year</th>\n",
              "      <th>rating</th>\n",
              "      <th>duration</th>\n",
              "      <th>listed_in</th>\n",
              "      <th>description</th>\n",
              "    </tr>\n",
              "  </thead>\n",
              "  <tbody>\n",
              "    <tr>\n",
              "      <th>7782</th>\n",
              "      <td>s7783</td>\n",
              "      <td>Movie</td>\n",
              "      <td>Zozo</td>\n",
              "      <td>Josef Fares</td>\n",
              "      <td>Imad Creidi, Antoinette Turk, Elias Gergi, Car...</td>\n",
              "      <td>Sweden, Czech Republic, United Kingdom, Denmar...</td>\n",
              "      <td>October 19, 2020</td>\n",
              "      <td>2005</td>\n",
              "      <td>TV-MA</td>\n",
              "      <td>99 min</td>\n",
              "      <td>Dramas, International Movies</td>\n",
              "      <td>When Lebanon's Civil War deprives Zozo of his ...</td>\n",
              "    </tr>\n",
              "    <tr>\n",
              "      <th>7783</th>\n",
              "      <td>s7784</td>\n",
              "      <td>Movie</td>\n",
              "      <td>Zubaan</td>\n",
              "      <td>Mozez Singh</td>\n",
              "      <td>Vicky Kaushal, Sarah-Jane Dias, Raaghav Chanan...</td>\n",
              "      <td>India</td>\n",
              "      <td>March 2, 2019</td>\n",
              "      <td>2015</td>\n",
              "      <td>TV-14</td>\n",
              "      <td>111 min</td>\n",
              "      <td>Dramas, International Movies, Music &amp; Musicals</td>\n",
              "      <td>A scrappy but poor boy worms his way into a ty...</td>\n",
              "    </tr>\n",
              "    <tr>\n",
              "      <th>7784</th>\n",
              "      <td>s7785</td>\n",
              "      <td>Movie</td>\n",
              "      <td>Zulu Man in Japan</td>\n",
              "      <td>NaN</td>\n",
              "      <td>Nasty C</td>\n",
              "      <td>NaN</td>\n",
              "      <td>September 25, 2020</td>\n",
              "      <td>2019</td>\n",
              "      <td>TV-MA</td>\n",
              "      <td>44 min</td>\n",
              "      <td>Documentaries, International Movies, Music &amp; M...</td>\n",
              "      <td>In this documentary, South African rapper Nast...</td>\n",
              "    </tr>\n",
              "    <tr>\n",
              "      <th>7785</th>\n",
              "      <td>s7786</td>\n",
              "      <td>TV Show</td>\n",
              "      <td>Zumbo's Just Desserts</td>\n",
              "      <td>NaN</td>\n",
              "      <td>Adriano Zumbo, Rachel Khoo</td>\n",
              "      <td>Australia</td>\n",
              "      <td>October 31, 2020</td>\n",
              "      <td>2019</td>\n",
              "      <td>TV-PG</td>\n",
              "      <td>1 Season</td>\n",
              "      <td>International TV Shows, Reality TV</td>\n",
              "      <td>Dessert wizard Adriano Zumbo looks for the nex...</td>\n",
              "    </tr>\n",
              "    <tr>\n",
              "      <th>7786</th>\n",
              "      <td>s7787</td>\n",
              "      <td>Movie</td>\n",
              "      <td>ZZ TOP: THAT LITTLE OL' BAND FROM TEXAS</td>\n",
              "      <td>Sam Dunn</td>\n",
              "      <td>NaN</td>\n",
              "      <td>United Kingdom, Canada, United States</td>\n",
              "      <td>March 1, 2020</td>\n",
              "      <td>2019</td>\n",
              "      <td>TV-MA</td>\n",
              "      <td>90 min</td>\n",
              "      <td>Documentaries, Music &amp; Musicals</td>\n",
              "      <td>This documentary delves into the mystique behi...</td>\n",
              "    </tr>\n",
              "  </tbody>\n",
              "</table>\n",
              "</div>\n",
              "      <button class=\"colab-df-convert\" onclick=\"convertToInteractive('df-df5a4ed7-638b-4d2e-aaf0-fed971ec1fb9')\"\n",
              "              title=\"Convert this dataframe to an interactive table.\"\n",
              "              style=\"display:none;\">\n",
              "        \n",
              "  <svg xmlns=\"http://www.w3.org/2000/svg\" height=\"24px\"viewBox=\"0 0 24 24\"\n",
              "       width=\"24px\">\n",
              "    <path d=\"M0 0h24v24H0V0z\" fill=\"none\"/>\n",
              "    <path d=\"M18.56 5.44l.94 2.06.94-2.06 2.06-.94-2.06-.94-.94-2.06-.94 2.06-2.06.94zm-11 1L8.5 8.5l.94-2.06 2.06-.94-2.06-.94L8.5 2.5l-.94 2.06-2.06.94zm10 10l.94 2.06.94-2.06 2.06-.94-2.06-.94-.94-2.06-.94 2.06-2.06.94z\"/><path d=\"M17.41 7.96l-1.37-1.37c-.4-.4-.92-.59-1.43-.59-.52 0-1.04.2-1.43.59L10.3 9.45l-7.72 7.72c-.78.78-.78 2.05 0 2.83L4 21.41c.39.39.9.59 1.41.59.51 0 1.02-.2 1.41-.59l7.78-7.78 2.81-2.81c.8-.78.8-2.07 0-2.86zM5.41 20L4 18.59l7.72-7.72 1.47 1.35L5.41 20z\"/>\n",
              "  </svg>\n",
              "      </button>\n",
              "      \n",
              "  <style>\n",
              "    .colab-df-container {\n",
              "      display:flex;\n",
              "      flex-wrap:wrap;\n",
              "      gap: 12px;\n",
              "    }\n",
              "\n",
              "    .colab-df-convert {\n",
              "      background-color: #E8F0FE;\n",
              "      border: none;\n",
              "      border-radius: 50%;\n",
              "      cursor: pointer;\n",
              "      display: none;\n",
              "      fill: #1967D2;\n",
              "      height: 32px;\n",
              "      padding: 0 0 0 0;\n",
              "      width: 32px;\n",
              "    }\n",
              "\n",
              "    .colab-df-convert:hover {\n",
              "      background-color: #E2EBFA;\n",
              "      box-shadow: 0px 1px 2px rgba(60, 64, 67, 0.3), 0px 1px 3px 1px rgba(60, 64, 67, 0.15);\n",
              "      fill: #174EA6;\n",
              "    }\n",
              "\n",
              "    [theme=dark] .colab-df-convert {\n",
              "      background-color: #3B4455;\n",
              "      fill: #D2E3FC;\n",
              "    }\n",
              "\n",
              "    [theme=dark] .colab-df-convert:hover {\n",
              "      background-color: #434B5C;\n",
              "      box-shadow: 0px 1px 3px 1px rgba(0, 0, 0, 0.15);\n",
              "      filter: drop-shadow(0px 1px 2px rgba(0, 0, 0, 0.3));\n",
              "      fill: #FFFFFF;\n",
              "    }\n",
              "  </style>\n",
              "\n",
              "      <script>\n",
              "        const buttonEl =\n",
              "          document.querySelector('#df-df5a4ed7-638b-4d2e-aaf0-fed971ec1fb9 button.colab-df-convert');\n",
              "        buttonEl.style.display =\n",
              "          google.colab.kernel.accessAllowed ? 'block' : 'none';\n",
              "\n",
              "        async function convertToInteractive(key) {\n",
              "          const element = document.querySelector('#df-df5a4ed7-638b-4d2e-aaf0-fed971ec1fb9');\n",
              "          const dataTable =\n",
              "            await google.colab.kernel.invokeFunction('convertToInteractive',\n",
              "                                                     [key], {});\n",
              "          if (!dataTable) return;\n",
              "\n",
              "          const docLinkHtml = 'Like what you see? Visit the ' +\n",
              "            '<a target=\"_blank\" href=https://colab.research.google.com/notebooks/data_table.ipynb>data table notebook</a>'\n",
              "            + ' to learn more about interactive tables.';\n",
              "          element.innerHTML = '';\n",
              "          dataTable['output_type'] = 'display_data';\n",
              "          await google.colab.output.renderOutput(dataTable, element);\n",
              "          const docLink = document.createElement('div');\n",
              "          docLink.innerHTML = docLinkHtml;\n",
              "          element.appendChild(docLink);\n",
              "        }\n",
              "      </script>\n",
              "    </div>\n",
              "  </div>\n",
              "  "
            ]
          },
          "metadata": {},
          "execution_count": 5
        }
      ]
    },
    {
      "cell_type": "markdown",
      "source": [
        "### Dataset Rows & Columns count"
      ],
      "metadata": {
        "id": "dwDuu6u6Cy3X"
      }
    },
    {
      "cell_type": "code",
      "source": [
        "# Dataset Rows & Columns count\n",
        "df.shape"
      ],
      "metadata": {
        "colab": {
          "base_uri": "https://localhost:8080/"
        },
        "id": "9K07ig_6_v-t",
        "outputId": "6ac6376d-55c0-4c00-8900-0079da219a0c"
      },
      "execution_count": 6,
      "outputs": [
        {
          "output_type": "execute_result",
          "data": {
            "text/plain": [
              "(7787, 12)"
            ]
          },
          "metadata": {},
          "execution_count": 6
        }
      ]
    },
    {
      "cell_type": "markdown",
      "source": [
        "### Dataset Information"
      ],
      "metadata": {
        "id": "J2eizciOC6ds"
      }
    },
    {
      "cell_type": "code",
      "source": [
        "# Dataset Info\n",
        "df.info()"
      ],
      "metadata": {
        "colab": {
          "base_uri": "https://localhost:8080/"
        },
        "id": "tEk5R_5W_wAt",
        "outputId": "68558f9f-16ee-45ca-c52a-006dcbab5e6e"
      },
      "execution_count": 7,
      "outputs": [
        {
          "output_type": "stream",
          "name": "stdout",
          "text": [
            "<class 'pandas.core.frame.DataFrame'>\n",
            "RangeIndex: 7787 entries, 0 to 7786\n",
            "Data columns (total 12 columns):\n",
            " #   Column        Non-Null Count  Dtype \n",
            "---  ------        --------------  ----- \n",
            " 0   show_id       7787 non-null   object\n",
            " 1   type          7787 non-null   object\n",
            " 2   title         7787 non-null   object\n",
            " 3   director      5398 non-null   object\n",
            " 4   cast          7069 non-null   object\n",
            " 5   country       7280 non-null   object\n",
            " 6   date_added    7777 non-null   object\n",
            " 7   release_year  7787 non-null   int64 \n",
            " 8   rating        7780 non-null   object\n",
            " 9   duration      7787 non-null   object\n",
            " 10  listed_in     7787 non-null   object\n",
            " 11  description   7787 non-null   object\n",
            "dtypes: int64(1), object(11)\n",
            "memory usage: 730.2+ KB\n"
          ]
        }
      ]
    },
    {
      "cell_type": "markdown",
      "source": [
        "#### Duplicate Values"
      ],
      "metadata": {
        "id": "YOmbKJ6NDCIA"
      }
    },
    {
      "cell_type": "code",
      "source": [
        "# Dataset Duplicate Value Count\n",
        "df[df.duplicated()]"
      ],
      "metadata": {
        "colab": {
          "base_uri": "https://localhost:8080/",
          "height": 49
        },
        "id": "I73uiuNI_wC4",
        "outputId": "de643b10-97c8-44ca-be96-974643a64920"
      },
      "execution_count": 8,
      "outputs": [
        {
          "output_type": "execute_result",
          "data": {
            "text/plain": [
              "Empty DataFrame\n",
              "Columns: [show_id, type, title, director, cast, country, date_added, release_year, rating, duration, listed_in, description]\n",
              "Index: []"
            ],
            "text/html": [
              "\n",
              "  <div id=\"df-381ddc16-b7a4-4ca3-8cf1-4a44917e5a97\">\n",
              "    <div class=\"colab-df-container\">\n",
              "      <div>\n",
              "<style scoped>\n",
              "    .dataframe tbody tr th:only-of-type {\n",
              "        vertical-align: middle;\n",
              "    }\n",
              "\n",
              "    .dataframe tbody tr th {\n",
              "        vertical-align: top;\n",
              "    }\n",
              "\n",
              "    .dataframe thead th {\n",
              "        text-align: right;\n",
              "    }\n",
              "</style>\n",
              "<table border=\"1\" class=\"dataframe\">\n",
              "  <thead>\n",
              "    <tr style=\"text-align: right;\">\n",
              "      <th></th>\n",
              "      <th>show_id</th>\n",
              "      <th>type</th>\n",
              "      <th>title</th>\n",
              "      <th>director</th>\n",
              "      <th>cast</th>\n",
              "      <th>country</th>\n",
              "      <th>date_added</th>\n",
              "      <th>release_year</th>\n",
              "      <th>rating</th>\n",
              "      <th>duration</th>\n",
              "      <th>listed_in</th>\n",
              "      <th>description</th>\n",
              "    </tr>\n",
              "  </thead>\n",
              "  <tbody>\n",
              "  </tbody>\n",
              "</table>\n",
              "</div>\n",
              "      <button class=\"colab-df-convert\" onclick=\"convertToInteractive('df-381ddc16-b7a4-4ca3-8cf1-4a44917e5a97')\"\n",
              "              title=\"Convert this dataframe to an interactive table.\"\n",
              "              style=\"display:none;\">\n",
              "        \n",
              "  <svg xmlns=\"http://www.w3.org/2000/svg\" height=\"24px\"viewBox=\"0 0 24 24\"\n",
              "       width=\"24px\">\n",
              "    <path d=\"M0 0h24v24H0V0z\" fill=\"none\"/>\n",
              "    <path d=\"M18.56 5.44l.94 2.06.94-2.06 2.06-.94-2.06-.94-.94-2.06-.94 2.06-2.06.94zm-11 1L8.5 8.5l.94-2.06 2.06-.94-2.06-.94L8.5 2.5l-.94 2.06-2.06.94zm10 10l.94 2.06.94-2.06 2.06-.94-2.06-.94-.94-2.06-.94 2.06-2.06.94z\"/><path d=\"M17.41 7.96l-1.37-1.37c-.4-.4-.92-.59-1.43-.59-.52 0-1.04.2-1.43.59L10.3 9.45l-7.72 7.72c-.78.78-.78 2.05 0 2.83L4 21.41c.39.39.9.59 1.41.59.51 0 1.02-.2 1.41-.59l7.78-7.78 2.81-2.81c.8-.78.8-2.07 0-2.86zM5.41 20L4 18.59l7.72-7.72 1.47 1.35L5.41 20z\"/>\n",
              "  </svg>\n",
              "      </button>\n",
              "      \n",
              "  <style>\n",
              "    .colab-df-container {\n",
              "      display:flex;\n",
              "      flex-wrap:wrap;\n",
              "      gap: 12px;\n",
              "    }\n",
              "\n",
              "    .colab-df-convert {\n",
              "      background-color: #E8F0FE;\n",
              "      border: none;\n",
              "      border-radius: 50%;\n",
              "      cursor: pointer;\n",
              "      display: none;\n",
              "      fill: #1967D2;\n",
              "      height: 32px;\n",
              "      padding: 0 0 0 0;\n",
              "      width: 32px;\n",
              "    }\n",
              "\n",
              "    .colab-df-convert:hover {\n",
              "      background-color: #E2EBFA;\n",
              "      box-shadow: 0px 1px 2px rgba(60, 64, 67, 0.3), 0px 1px 3px 1px rgba(60, 64, 67, 0.15);\n",
              "      fill: #174EA6;\n",
              "    }\n",
              "\n",
              "    [theme=dark] .colab-df-convert {\n",
              "      background-color: #3B4455;\n",
              "      fill: #D2E3FC;\n",
              "    }\n",
              "\n",
              "    [theme=dark] .colab-df-convert:hover {\n",
              "      background-color: #434B5C;\n",
              "      box-shadow: 0px 1px 3px 1px rgba(0, 0, 0, 0.15);\n",
              "      filter: drop-shadow(0px 1px 2px rgba(0, 0, 0, 0.3));\n",
              "      fill: #FFFFFF;\n",
              "    }\n",
              "  </style>\n",
              "\n",
              "      <script>\n",
              "        const buttonEl =\n",
              "          document.querySelector('#df-381ddc16-b7a4-4ca3-8cf1-4a44917e5a97 button.colab-df-convert');\n",
              "        buttonEl.style.display =\n",
              "          google.colab.kernel.accessAllowed ? 'block' : 'none';\n",
              "\n",
              "        async function convertToInteractive(key) {\n",
              "          const element = document.querySelector('#df-381ddc16-b7a4-4ca3-8cf1-4a44917e5a97');\n",
              "          const dataTable =\n",
              "            await google.colab.kernel.invokeFunction('convertToInteractive',\n",
              "                                                     [key], {});\n",
              "          if (!dataTable) return;\n",
              "\n",
              "          const docLinkHtml = 'Like what you see? Visit the ' +\n",
              "            '<a target=\"_blank\" href=https://colab.research.google.com/notebooks/data_table.ipynb>data table notebook</a>'\n",
              "            + ' to learn more about interactive tables.';\n",
              "          element.innerHTML = '';\n",
              "          dataTable['output_type'] = 'display_data';\n",
              "          await google.colab.output.renderOutput(dataTable, element);\n",
              "          const docLink = document.createElement('div');\n",
              "          docLink.innerHTML = docLinkHtml;\n",
              "          element.appendChild(docLink);\n",
              "        }\n",
              "      </script>\n",
              "    </div>\n",
              "  </div>\n",
              "  "
            ]
          },
          "metadata": {},
          "execution_count": 8
        }
      ]
    },
    {
      "cell_type": "markdown",
      "source": [
        "In that dataset there is no duplicated values are there."
      ],
      "metadata": {
        "id": "2k_sLAx_DNzS"
      }
    },
    {
      "cell_type": "markdown",
      "source": [
        "#### Missing Values/Null Values"
      ],
      "metadata": {
        "id": "85ASzGbBDMLs"
      }
    },
    {
      "cell_type": "code",
      "source": [
        "# Missing Values/Null Values Count\n",
        "print(df.isnull().sum())"
      ],
      "metadata": {
        "colab": {
          "base_uri": "https://localhost:8080/"
        },
        "id": "03JeJWen_wFY",
        "outputId": "634203cc-c115-438b-9584-c4dd25d73f9d"
      },
      "execution_count": 9,
      "outputs": [
        {
          "output_type": "stream",
          "name": "stdout",
          "text": [
            "show_id            0\n",
            "type               0\n",
            "title              0\n",
            "director        2389\n",
            "cast             718\n",
            "country          507\n",
            "date_added        10\n",
            "release_year       0\n",
            "rating             7\n",
            "duration           0\n",
            "listed_in          0\n",
            "description        0\n",
            "dtype: int64\n"
          ]
        }
      ]
    },
    {
      "cell_type": "code",
      "source": [
        "# Visualizing the missing values\n",
        "# Checking Null Value by plotting Heatmap\n",
        "plt.figure(figsize=(7,5))\n",
        "sns.heatmap(df.isnull(), cbar=False)\n",
        "plt.show()"
      ],
      "metadata": {
        "colab": {
          "base_uri": "https://localhost:8080/",
          "height": 378
        },
        "id": "rUqDLo2r_wHf",
        "outputId": "d4b720b2-64b8-4ef0-edec-4f88d279cfa8"
      },
      "execution_count": 10,
      "outputs": [
        {
          "output_type": "display_data",
          "data": {
            "text/plain": [
              "<Figure size 504x360 with 1 Axes>"
            ],
            "image/png": "[encoded data removed]"
          },
          "metadata": {
            "needs_background": "light"
          }
        }
      ]
    },
    {
      "cell_type": "markdown",
      "source": [
        "### What did you know about your dataset?"
      ],
      "metadata": {
        "id": "_xwvxq7dDuJx"
      }
    },
    {
      "cell_type": "markdown",
      "source": [
        "In that dataset this column null value there 1. director=2389,cast    =718,country=507,date_added=10."
      ],
      "metadata": {
        "id": "y9vEtwJBD3J6"
      }
    },
    {
      "cell_type": "markdown",
      "source": [
        "## ***2. Understanding Your Variables***"
      ],
      "metadata": {
        "id": "OBSyQ8wfEb8R"
      }
    },
    {
      "cell_type": "code",
      "source": [
        "# Dataset Columns\n",
        "df.columns"
      ],
      "metadata": {
        "colab": {
          "base_uri": "https://localhost:8080/"
        },
        "id": "uu1C2teX_wJk",
        "outputId": "aa54cc6e-4ebd-499a-f860-f6ad78603d88"
      },
      "execution_count": 11,
      "outputs": [
        {
          "output_type": "execute_result",
          "data": {
            "text/plain": [
              "Index(['show_id', 'type', 'title', 'director', 'cast', 'country', 'date_added',\n",
              "       'release_year', 'rating', 'duration', 'listed_in', 'description'],\n",
              "      dtype='object')"
            ]
          },
          "metadata": {},
          "execution_count": 11
        }
      ]
    },
    {
      "cell_type": "code",
      "source": [
        "# Dataset Describe\n",
        "df.describe(include='all')"
      ],
      "metadata": {
        "colab": {
          "base_uri": "https://localhost:8080/",
          "height": 473
        },
        "id": "RWbfTWTB_wNY",
        "outputId": "0a983a32-e8ee-4883-e7fb-949abb9e37dc"
      },
      "execution_count": 12,
      "outputs": [
        {
          "output_type": "execute_result",
          "data": {
            "text/plain": [
              "       show_id   type title                director                cast  \\\n",
              "count     7787   7787  7787                    5398                7069   \n",
              "unique    7787      2  7787                    4049                6831   \n",
              "top         s1  Movie    3%  Raúl Campos, Jan Suter  David Attenborough   \n",
              "freq         1   5377     1                      18                  18   \n",
              "mean       NaN    NaN   NaN                     NaN                 NaN   \n",
              "std        NaN    NaN   NaN                     NaN                 NaN   \n",
              "min        NaN    NaN   NaN                     NaN                 NaN   \n",
              "25%        NaN    NaN   NaN                     NaN                 NaN   \n",
              "50%        NaN    NaN   NaN                     NaN                 NaN   \n",
              "75%        NaN    NaN   NaN                     NaN                 NaN   \n",
              "max        NaN    NaN   NaN                     NaN                 NaN   \n",
              "\n",
              "              country       date_added  release_year rating  duration  \\\n",
              "count            7280             7777   7787.000000   7780      7787   \n",
              "unique            681             1565           NaN     14       216   \n",
              "top     United States  January 1, 2020           NaN  TV-MA  1 Season   \n",
              "freq             2555              118           NaN   2863      1608   \n",
              "mean              NaN              NaN   2013.932580    NaN       NaN   \n",
              "std               NaN              NaN      8.757395    NaN       NaN   \n",
              "min               NaN              NaN   1925.000000    NaN       NaN   \n",
              "25%               NaN              NaN   2013.000000    NaN       NaN   \n",
              "50%               NaN              NaN   2017.000000    NaN       NaN   \n",
              "75%               NaN              NaN   2018.000000    NaN       NaN   \n",
              "max               NaN              NaN   2021.000000    NaN       NaN   \n",
              "\n",
              "            listed_in                                        description  \n",
              "count            7787                                               7787  \n",
              "unique            492                                               7769  \n",
              "top     Documentaries  Multiple women report their husbands as missin...  \n",
              "freq              334                                                  3  \n",
              "mean              NaN                                                NaN  \n",
              "std               NaN                                                NaN  \n",
              "min               NaN                                                NaN  \n",
              "25%               NaN                                                NaN  \n",
              "50%               NaN                                                NaN  \n",
              "75%               NaN                                                NaN  \n",
              "max               NaN                                                NaN  "
            ],
            "text/html": [
              "\n",
              "  <div id=\"df-6b180aec-7ad2-4c1c-8c8a-dd983c9fe56b\">\n",
              "    <div class=\"colab-df-container\">\n",
              "      <div>\n",
              "<style scoped>\n",
              "    .dataframe tbody tr th:only-of-type {\n",
              "        vertical-align: middle;\n",
              "    }\n",
              "\n",
              "    .dataframe tbody tr th {\n",
              "        vertical-align: top;\n",
              "    }\n",
              "\n",
              "    .dataframe thead th {\n",
              "        text-align: right;\n",
              "    }\n",
              "</style>\n",
              "<table border=\"1\" class=\"dataframe\">\n",
              "  <thead>\n",
              "    <tr style=\"text-align: right;\">\n",
              "      <th></th>\n",
              "      <th>show_id</th>\n",
              "      <th>type</th>\n",
              "      <th>title</th>\n",
              "      <th>director</th>\n",
              "      <th>cast</th>\n",
              "      <th>country</th>\n",
              "      <th>date_added</th>\n",
              "      <th>release_year</th>\n",
              "      <th>rating</th>\n",
              "      <th>duration</th>\n",
              "      <th>listed_in</th>\n",
              "      <th>description</th>\n",
              "    </tr>\n",
              "  </thead>\n",
              "  <tbody>\n",
              "    <tr>\n",
              "      <th>count</th>\n",
              "      <td>7787</td>\n",
              "      <td>7787</td>\n",
              "      <td>7787</td>\n",
              "      <td>5398</td>\n",
              "      <td>7069</td>\n",
              "      <td>7280</td>\n",
              "      <td>7777</td>\n",
              "      <td>7787.000000</td>\n",
              "      <td>7780</td>\n",
              "      <td>7787</td>\n",
              "      <td>7787</td>\n",
              "      <td>7787</td>\n",
              "    </tr>\n",
              "    <tr>\n",
              "      <th>unique</th>\n",
              "      <td>7787</td>\n",
              "      <td>2</td>\n",
              "      <td>7787</td>\n",
              "      <td>4049</td>\n",
              "      <td>6831</td>\n",
              "      <td>681</td>\n",
              "      <td>1565</td>\n",
              "      <td>NaN</td>\n",
              "      <td>14</td>\n",
              "      <td>216</td>\n",
              "      <td>492</td>\n",
              "      <td>7769</td>\n",
              "    </tr>\n",
              "    <tr>\n",
              "      <th>top</th>\n",
              "      <td>s1</td>\n",
              "      <td>Movie</td>\n",
              "      <td>3%</td>\n",
              "      <td>Raúl Campos, Jan Suter</td>\n",
              "      <td>David Attenborough</td>\n",
              "      <td>United States</td>\n",
              "      <td>January 1, 2020</td>\n",
              "      <td>NaN</td>\n",
              "      <td>TV-MA</td>\n",
              "      <td>1 Season</td>\n",
              "      <td>Documentaries</td>\n",
              "      <td>Multiple women report their husbands as missin...</td>\n",
              "    </tr>\n",
              "    <tr>\n",
              "      <th>freq</th>\n",
              "      <td>1</td>\n",
              "      <td>5377</td>\n",
              "      <td>1</td>\n",
              "      <td>18</td>\n",
              "      <td>18</td>\n",
              "      <td>2555</td>\n",
              "      <td>118</td>\n",
              "      <td>NaN</td>\n",
              "      <td>2863</td>\n",
              "      <td>1608</td>\n",
              "      <td>334</td>\n",
              "      <td>3</td>\n",
              "    </tr>\n",
              "    <tr>\n",
              "      <th>mean</th>\n",
              "      <td>NaN</td>\n",
              "      <td>NaN</td>\n",
              "      <td>NaN</td>\n",
              "      <td>NaN</td>\n",
              "      <td>NaN</td>\n",
              "      <td>NaN</td>\n",
              "      <td>NaN</td>\n",
              "      <td>2013.932580</td>\n",
              "      <td>NaN</td>\n",
              "      <td>NaN</td>\n",
              "      <td>NaN</td>\n",
              "      <td>NaN</td>\n",
              "    </tr>\n",
              "    <tr>\n",
              "      <th>std</th>\n",
              "      <td>NaN</td>\n",
              "      <td>NaN</td>\n",
              "      <td>NaN</td>\n",
              "      <td>NaN</td>\n",
              "      <td>NaN</td>\n",
              "      <td>NaN</td>\n",
              "      <td>NaN</td>\n",
              "      <td>8.757395</td>\n",
              "      <td>NaN</td>\n",
              "      <td>NaN</td>\n",
              "      <td>NaN</td>\n",
              "      <td>NaN</td>\n",
              "    </tr>\n",
              "    <tr>\n",
              "      <th>min</th>\n",
              "      <td>NaN</td>\n",
              "      <td>NaN</td>\n",
              "      <td>NaN</td>\n",
              "      <td>NaN</td>\n",
              "      <td>NaN</td>\n",
              "      <td>NaN</td>\n",
              "      <td>NaN</td>\n",
              "      <td>1925.000000</td>\n",
              "      <td>NaN</td>\n",
              "      <td>NaN</td>\n",
              "      <td>NaN</td>\n",
              "      <td>NaN</td>\n",
              "    </tr>\n",
              "    <tr>\n",
              "      <th>25%</th>\n",
              "      <td>NaN</td>\n",
              "      <td>NaN</td>\n",
              "      <td>NaN</td>\n",
              "      <td>NaN</td>\n",
              "      <td>NaN</td>\n",
              "      <td>NaN</td>\n",
              "      <td>NaN</td>\n",
              "      <td>2013.000000</td>\n",
              "      <td>NaN</td>\n",
              "      <td>NaN</td>\n",
              "      <td>NaN</td>\n",
              "      <td>NaN</td>\n",
              "    </tr>\n",
              "    <tr>\n",
              "      <th>50%</th>\n",
              "      <td>NaN</td>\n",
              "      <td>NaN</td>\n",
              "      <td>NaN</td>\n",
              "      <td>NaN</td>\n",
              "      <td>NaN</td>\n",
              "      <td>NaN</td>\n",
              "      <td>NaN</td>\n",
              "      <td>2017.000000</td>\n",
              "      <td>NaN</td>\n",
              "      <td>NaN</td>\n",
              "      <td>NaN</td>\n",
              "      <td>NaN</td>\n",
              "    </tr>\n",
              "    <tr>\n",
              "      <th>75%</th>\n",
              "      <td>NaN</td>\n",
              "      <td>NaN</td>\n",
              "      <td>NaN</td>\n",
              "      <td>NaN</td>\n",
              "      <td>NaN</td>\n",
              "      <td>NaN</td>\n",
              "      <td>NaN</td>\n",
              "      <td>2018.000000</td>\n",
              "      <td>NaN</td>\n",
              "      <td>NaN</td>\n",
              "      <td>NaN</td>\n",
              "      <td>NaN</td>\n",
              "    </tr>\n",
              "    <tr>\n",
              "      <th>max</th>\n",
              "      <td>NaN</td>\n",
              "      <td>NaN</td>\n",
              "      <td>NaN</td>\n",
              "      <td>NaN</td>\n",
              "      <td>NaN</td>\n",
              "      <td>NaN</td>\n",
              "      <td>NaN</td>\n",
              "      <td>2021.000000</td>\n",
              "      <td>NaN</td>\n",
              "      <td>NaN</td>\n",
              "      <td>NaN</td>\n",
              "      <td>NaN</td>\n",
              "    </tr>\n",
              "  </tbody>\n",
              "</table>\n",
              "</div>\n",
              "      <button class=\"colab-df-convert\" onclick=\"convertToInteractive('df-6b180aec-7ad2-4c1c-8c8a-dd983c9fe56b')\"\n",
              "              title=\"Convert this dataframe to an interactive table.\"\n",
              "              style=\"display:none;\">\n",
              "        \n",
              "  <svg xmlns=\"http://www.w3.org/2000/svg\" height=\"24px\"viewBox=\"0 0 24 24\"\n",
              "       width=\"24px\">\n",
              "    <path d=\"M0 0h24v24H0V0z\" fill=\"none\"/>\n",
              "    <path d=\"M18.56 5.44l.94 2.06.94-2.06 2.06-.94-2.06-.94-.94-2.06-.94 2.06-2.06.94zm-11 1L8.5 8.5l.94-2.06 2.06-.94-2.06-.94L8.5 2.5l-.94 2.06-2.06.94zm10 10l.94 2.06.94-2.06 2.06-.94-2.06-.94-.94-2.06-.94 2.06-2.06.94z\"/><path d=\"M17.41 7.96l-1.37-1.37c-.4-.4-.92-.59-1.43-.59-.52 0-1.04.2-1.43.59L10.3 9.45l-7.72 7.72c-.78.78-.78 2.05 0 2.83L4 21.41c.39.39.9.59 1.41.59.51 0 1.02-.2 1.41-.59l7.78-7.78 2.81-2.81c.8-.78.8-2.07 0-2.86zM5.41 20L4 18.59l7.72-7.72 1.47 1.35L5.41 20z\"/>\n",
              "  </svg>\n",
              "      </button>\n",
              "      \n",
              "  <style>\n",
              "    .colab-df-container {\n",
              "      display:flex;\n",
              "      flex-wrap:wrap;\n",
              "      gap: 12px;\n",
              "    }\n",
              "\n",
              "    .colab-df-convert {\n",
              "      background-color: #E8F0FE;\n",
              "      border: none;\n",
              "      border-radius: 50%;\n",
              "      cursor: pointer;\n",
              "      display: none;\n",
              "      fill: #1967D2;\n",
              "      height: 32px;\n",
              "      padding: 0 0 0 0;\n",
              "      width: 32px;\n",
              "    }\n",
              "\n",
              "    .colab-df-convert:hover {\n",
              "      background-color: #E2EBFA;\n",
              "      box-shadow: 0px 1px 2px rgba(60, 64, 67, 0.3), 0px 1px 3px 1px rgba(60, 64, 67, 0.15);\n",
              "      fill: #174EA6;\n",
              "    }\n",
              "\n",
              "    [theme=dark] .colab-df-convert {\n",
              "      background-color: #3B4455;\n",
              "      fill: #D2E3FC;\n",
              "    }\n",
              "\n",
              "    [theme=dark] .colab-df-convert:hover {\n",
              "      background-color: #434B5C;\n",
              "      box-shadow: 0px 1px 3px 1px rgba(0, 0, 0, 0.15);\n",
              "      filter: drop-shadow(0px 1px 2px rgba(0, 0, 0, 0.3));\n",
              "      fill: #FFFFFF;\n",
              "    }\n",
              "  </style>\n",
              "\n",
              "      <script>\n",
              "        const buttonEl =\n",
              "          document.querySelector('#df-6b180aec-7ad2-4c1c-8c8a-dd983c9fe56b button.colab-df-convert');\n",
              "        buttonEl.style.display =\n",
              "          google.colab.kernel.accessAllowed ? 'block' : 'none';\n",
              "\n",
              "        async function convertToInteractive(key) {\n",
              "          const element = document.querySelector('#df-6b180aec-7ad2-4c1c-8c8a-dd983c9fe56b');\n",
              "          const dataTable =\n",
              "            await google.colab.kernel.invokeFunction('convertToInteractive',\n",
              "                                                     [key], {});\n",
              "          if (!dataTable) return;\n",
              "\n",
              "          const docLinkHtml = 'Like what you see? Visit the ' +\n",
              "            '<a target=\"_blank\" href=https://colab.research.google.com/notebooks/data_table.ipynb>data table notebook</a>'\n",
              "            + ' to learn more about interactive tables.';\n",
              "          element.innerHTML = '';\n",
              "          dataTable['output_type'] = 'display_data';\n",
              "          await google.colab.output.renderOutput(dataTable, element);\n",
              "          const docLink = document.createElement('div');\n",
              "          docLink.innerHTML = docLinkHtml;\n",
              "          element.appendChild(docLink);\n",
              "        }\n",
              "      </script>\n",
              "    </div>\n",
              "  </div>\n",
              "  "
            ]
          },
          "metadata": {},
          "execution_count": 12
        }
      ]
    },
    {
      "cell_type": "markdown",
      "source": [
        "### Check Unique Values for each variable."
      ],
      "metadata": {
        "id": "-ZgEgdRnE5GE"
      }
    },
    {
      "cell_type": "code",
      "source": [
        "# Check Unique Values for each variable.\n",
        "for i in df.columns.tolist():\n",
        "  print(\"No. of unique values in \",i,\"is\",df[i].nunique(),\".\")"
      ],
      "metadata": {
        "colab": {
          "base_uri": "https://localhost:8080/"
        },
        "id": "CXCe2ZlWFF9O",
        "outputId": "184fd442-fb0f-40a2-f7d8-12295051cd7b"
      },
      "execution_count": 13,
      "outputs": [
        {
          "output_type": "stream",
          "name": "stdout",
          "text": [
            "No. of unique values in  show_id is 7787 .\n",
            "No. of unique values in  type is 2 .\n",
            "No. of unique values in  title is 7787 .\n",
            "No. of unique values in  director is 4049 .\n",
            "No. of unique values in  cast is 6831 .\n",
            "No. of unique values in  country is 681 .\n",
            "No. of unique values in  date_added is 1565 .\n",
            "No. of unique values in  release_year is 73 .\n",
            "No. of unique values in  rating is 14 .\n",
            "No. of unique values in  duration is 216 .\n",
            "No. of unique values in  listed_in is 492 .\n",
            "No. of unique values in  description is 7769 .\n"
          ]
        }
      ]
    },
    {
      "cell_type": "code",
      "source": [
        "#total null values\n",
        "df.isnull().sum().sum()"
      ],
      "metadata": {
        "colab": {
          "base_uri": "https://localhost:8080/"
        },
        "id": "ZbDEqAuGFGH0",
        "outputId": "1d80522e-040e-42e3-b7ab-8d8326bf4791"
      },
      "execution_count": 14,
      "outputs": [
        {
          "output_type": "execute_result",
          "data": {
            "text/plain": [
              "3631"
            ]
          },
          "metadata": {},
          "execution_count": 14
        }
      ]
    },
    {
      "cell_type": "code",
      "source": [
        "# Handling the missing values\n",
        "df[['director','cast','country']] = df[['director','cast','country']].fillna('Unknown')\n",
        "df['rating'] = df['rating'].fillna(df['rating'].mode()[0])\n",
        "df.dropna(axis=0, inplace = True)"
      ],
      "metadata": {
        "id": "FD49S6vCAu7i"
      },
      "execution_count": 15,
      "outputs": []
    },
    {
      "cell_type": "code",
      "source": [
        "#again checking is there any null values are not\n",
        "df.isnull().sum()"
      ],
      "metadata": {
        "colab": {
          "base_uri": "https://localhost:8080/"
        },
        "id": "eWBQF0cLFGRO",
        "outputId": "6cab57a6-f5cf-4433-be93-18b097cda4fa"
      },
      "execution_count": 16,
      "outputs": [
        {
          "output_type": "execute_result",
          "data": {
            "text/plain": [
              "show_id         0\n",
              "type            0\n",
              "title           0\n",
              "director        0\n",
              "cast            0\n",
              "country         0\n",
              "date_added      0\n",
              "release_year    0\n",
              "rating          0\n",
              "duration        0\n",
              "listed_in       0\n",
              "description     0\n",
              "dtype: int64"
            ]
          },
          "metadata": {},
          "execution_count": 16
        }
      ]
    },
    {
      "cell_type": "code",
      "source": [
        "# Dataset Rows & Columns count\n",
        "df.shape"
      ],
      "metadata": {
        "colab": {
          "base_uri": "https://localhost:8080/"
        },
        "id": "S6e7NRYkNQm4",
        "outputId": "77b7b20a-a733-46e8-a0eb-c81f2499c386"
      },
      "execution_count": 17,
      "outputs": [
        {
          "output_type": "execute_result",
          "data": {
            "text/plain": [
              "(7777, 12)"
            ]
          },
          "metadata": {},
          "execution_count": 17
        }
      ]
    },
    {
      "cell_type": "markdown",
      "source": [
        "### What all manipulations have you done and insights you found?"
      ],
      "metadata": {
        "id": "QzMeKT4UFvMl"
      }
    },
    {
      "cell_type": "markdown",
      "source": [
        "# **Feature engineering**"
      ],
      "metadata": {
        "id": "2lHuwXYicbwR"
      }
    },
    {
      "cell_type": "code",
      "source": [
        "# Top countries\n",
        "df.country.value_counts()"
      ],
      "metadata": {
        "colab": {
          "base_uri": "https://localhost:8080/"
        },
        "id": "J9hJqy6FIoFz",
        "outputId": "83d145a5-a61e-46ea-a38f-9660dd688d69"
      },
      "execution_count": 18,
      "outputs": [
        {
          "output_type": "execute_result",
          "data": {
            "text/plain": [
              "United States                                                   2549\n",
              "India                                                            923\n",
              "Unknown                                                          506\n",
              "United Kingdom                                                   396\n",
              "Japan                                                            225\n",
              "                                                                ... \n",
              "Russia, United States, China                                       1\n",
              "Italy, Switzerland, France, Germany                                1\n",
              "United States, United Kingdom, Canada                              1\n",
              "United States, United Kingdom, Japan                               1\n",
              "Sweden, Czech Republic, United Kingdom, Denmark, Netherlands       1\n",
              "Name: country, Length: 682, dtype: int64"
            ]
          },
          "metadata": {},
          "execution_count": 18
        }
      ]
    },
    {
      "cell_type": "code",
      "source": [
        "# Genre of shows\n",
        "df.listed_in.value_counts()"
      ],
      "metadata": {
        "colab": {
          "base_uri": "https://localhost:8080/"
        },
        "id": "dYwXOamlLzV4",
        "outputId": "8bbc4cf5-12a0-45fa-a005-11442a57031a"
      },
      "execution_count": 19,
      "outputs": [
        {
          "output_type": "execute_result",
          "data": {
            "text/plain": [
              "Documentaries                                                                      334\n",
              "Stand-Up Comedy                                                                    321\n",
              "Dramas, International Movies                                                       320\n",
              "Comedies, Dramas, International Movies                                             243\n",
              "Dramas, Independent Movies, International Movies                                   215\n",
              "                                                                                  ... \n",
              "Anime Series, Crime TV Shows, TV Thrillers                                           1\n",
              "Crime TV Shows, Romantic TV Shows, Spanish-Language TV Shows                         1\n",
              "Crime TV Shows, International TV Shows, Reality TV                                   1\n",
              "International Movies, Romantic Movies, Sci-Fi & Fantasy                              1\n",
              "International TV Shows, Spanish-Language TV Shows, Stand-Up Comedy & Talk Shows      1\n",
              "Name: listed_in, Length: 491, dtype: int64"
            ]
          },
          "metadata": {},
          "execution_count": 19
        }
      ]
    },
    {
      "cell_type": "code",
      "source": [
        "# Choosing the primary country and primary genre to simplify the analysis\n",
        "df['country'] = df['country'].apply(lambda x: x.split(',')[0])\n",
        "df['listed_in'] = df['listed_in'].apply(lambda x: x.split(',')[0])"
      ],
      "metadata": {
        "id": "qytBl9U-MW1P"
      },
      "execution_count": 20,
      "outputs": []
    },
    {
      "cell_type": "code",
      "source": [
        "# contry in which a movie was produced\n",
        "df.country.value_counts()"
      ],
      "metadata": {
        "colab": {
          "base_uri": "https://localhost:8080/"
        },
        "id": "8YQNQ1jiMXBE",
        "outputId": "a4c7ab82-4879-426d-cd5c-9f20ca8f0f8b"
      },
      "execution_count": 21,
      "outputs": [
        {
          "output_type": "execute_result",
          "data": {
            "text/plain": [
              "United States     2877\n",
              "India              956\n",
              "United Kingdom     576\n",
              "Unknown            506\n",
              "Canada             259\n",
              "                  ... \n",
              "Zimbabwe             1\n",
              "Namibia              1\n",
              "Soviet Union         1\n",
              "Iran                 1\n",
              "Somalia              1\n",
              "Name: country, Length: 82, dtype: int64"
            ]
          },
          "metadata": {},
          "execution_count": 21
        }
      ]
    },
    {
      "cell_type": "code",
      "source": [
        "# genre of shows\n",
        "df.listed_in.value_counts()"
      ],
      "metadata": {
        "colab": {
          "base_uri": "https://localhost:8080/"
        },
        "id": "9IjKfO9KMptC",
        "outputId": "90a470d6-40ac-4c37-8587-b7c2939dc22f"
      },
      "execution_count": 22,
      "outputs": [
        {
          "output_type": "execute_result",
          "data": {
            "text/plain": [
              "Dramas                          1384\n",
              "Comedies                        1074\n",
              "Documentaries                    751\n",
              "Action & Adventure               721\n",
              "International TV Shows           689\n",
              "Children & Family Movies         502\n",
              "Crime TV Shows                   369\n",
              "Kids' TV                         357\n",
              "Stand-Up Comedy                  321\n",
              "Horror Movies                    244\n",
              "British TV Shows                 231\n",
              "Docuseries                       193\n",
              "Anime Series                     147\n",
              "International Movies             114\n",
              "TV Comedies                      109\n",
              "Reality TV                       102\n",
              "Classic Movies                    77\n",
              "TV Dramas                         62\n",
              "Movies                            56\n",
              "Thrillers                         49\n",
              "TV Action & Adventure             36\n",
              "Stand-Up Comedy & Talk Shows      33\n",
              "Romantic TV Shows                 28\n",
              "Independent Movies                20\n",
              "Anime Features                    19\n",
              "Classic & Cult TV                 19\n",
              "Music & Musicals                  17\n",
              "TV Shows                          12\n",
              "Cult Movies                       12\n",
              "Sci-Fi & Fantasy                  11\n",
              "TV Horror                         10\n",
              "Romantic Movies                    3\n",
              "Spanish-Language TV Shows          2\n",
              "Sports Movies                      1\n",
              "TV Sci-Fi & Fantasy                1\n",
              "LGBTQ Movies                       1\n",
              "Name: listed_in, dtype: int64"
            ]
          },
          "metadata": {},
          "execution_count": 22
        }
      ]
    },
    {
      "cell_type": "code",
      "source": [
        "# Splitting the duration column, and changing the datatype to integer\n",
        "df['duration'] = df['duration'].apply(lambda x: int(x.split()[0]))"
      ],
      "metadata": {
        "id": "EWtlcjdDBRjU"
      },
      "execution_count": 23,
      "outputs": []
    },
    {
      "cell_type": "code",
      "source": [
        "# Number of seasons for tv shows\n",
        "df[df['type']=='TV Show'].duration.value_counts()"
      ],
      "metadata": {
        "colab": {
          "base_uri": "https://localhost:8080/"
        },
        "id": "fFgyO8FpNry8",
        "outputId": "d8e4ae7c-fb71-45c6-c85d-353bfd9850bc"
      },
      "execution_count": 24,
      "outputs": [
        {
          "output_type": "execute_result",
          "data": {
            "text/plain": [
              "1     1608\n",
              "2      378\n",
              "3      183\n",
              "4       86\n",
              "5       57\n",
              "6       30\n",
              "7       19\n",
              "8       18\n",
              "9        8\n",
              "10       5\n",
              "11       2\n",
              "12       2\n",
              "15       2\n",
              "13       1\n",
              "16       1\n",
              "Name: duration, dtype: int64"
            ]
          },
          "metadata": {},
          "execution_count": 24
        }
      ]
    },
    {
      "cell_type": "code",
      "source": [
        "# Movie length in minutes\n",
        "df[df['type']=='Movie'].duration.unique()"
      ],
      "metadata": {
        "colab": {
          "base_uri": "https://localhost:8080/"
        },
        "id": "cY5IbMQgNsDT",
        "outputId": "52b4481f-be51-48bb-b2a1-a567cc62f6cf"
      },
      "execution_count": 25,
      "outputs": [
        {
          "output_type": "execute_result",
          "data": {
            "text/plain": [
              "array([ 93,  78,  80, 123,  95, 119, 118, 143, 103,  89,  91, 149, 144,\n",
              "       124,  87, 110, 128, 117, 100,  84,  99,  90, 102, 104, 105,  56,\n",
              "       125,  81,  97, 106, 107, 109,  44,  75, 101,  37, 113, 114, 130,\n",
              "        94, 140, 135,  82,  70, 121,  92, 164,  53,  83, 116,  86, 120,\n",
              "        96, 126, 129,  77, 137, 148,  28, 122, 176,  85,  22,  68, 111,\n",
              "        29, 142, 168,  21,  59,  20,  98, 108,  76,  26, 156,  30,  57,\n",
              "       150, 133, 115, 154, 127, 146, 136,  88, 131,  24, 112,  74,  63,\n",
              "        38,  25, 174,  60, 153, 158, 151, 162,  54,  51,  69,  64, 147,\n",
              "        42,  79,  40,  45, 172,  10, 163,  55,  72,  61,  71, 160, 171,\n",
              "        48, 139, 157,  15,  65, 134, 161,  62, 186,  49,  73,  58, 165,\n",
              "       166, 138, 159, 141, 132,  52,  67,  34,  66, 312, 180,  47, 155,\n",
              "        14, 177,  11,   9,  46, 145,   8,  12,  43,  50,  23, 185, 200,\n",
              "       169,  27, 170, 196,  33, 181, 204,  32,  35, 167, 179, 193,  13,\n",
              "       214,  17, 173, 192, 209, 187,  41, 182, 224, 233, 189, 152,  19,\n",
              "       208, 237,  31, 178, 230, 194, 228, 195,   3,  16,   5,  18, 205,\n",
              "       190,  36, 201, 253, 203, 191])"
            ]
          },
          "metadata": {},
          "execution_count": 25
        }
      ]
    },
    {
      "cell_type": "markdown",
      "source": [
        "# Date_added column string to Datetime format"
      ],
      "metadata": {
        "id": "yFzzzL7RBhJz"
      }
    },
    {
      "cell_type": "code",
      "source": [
        "# Typecasting 'date_added' from string to datetime\n",
        "df['date_added '] = pd.to_datetime(df['date_added'])"
      ],
      "metadata": {
        "id": "7ozLXUVm2THr"
      },
      "execution_count": 26,
      "outputs": []
    },
    {
      "cell_type": "code",
      "source": [
        "df['date_added'] = pd.to_datetime(df['date_added'], errors='coerce')"
      ],
      "metadata": {
        "id": "IcZpLT_0J19E"
      },
      "execution_count": 27,
      "outputs": []
    },
    {
      "cell_type": "code",
      "source": [
        "# first and last date on which a show was added on Netflix\n",
        "df.date_added.min(),df.date_added.max()"
      ],
      "metadata": {
        "colab": {
          "base_uri": "https://localhost:8080/"
        },
        "id": "O0xl-tAH2YIJ",
        "outputId": "3dc5b9db-033e-4ea3-91d4-bc950de0367b"
      },
      "execution_count": 28,
      "outputs": [
        {
          "output_type": "execute_result",
          "data": {
            "text/plain": [
              "(Timestamp('2008-01-01 00:00:00'), Timestamp('2021-01-16 00:00:00'))"
            ]
          },
          "metadata": {},
          "execution_count": 28
        }
      ]
    },
    {
      "cell_type": "code",
      "source": [
        "# Adding new attributes month and year of date added\n",
        "\n",
        "df['month_added'] = df['date_added'].dt.month\n",
        "df['year_added'] = df['date_added'].dt.year\n",
        "df.drop('date_added', axis=1, inplace=True)"
      ],
      "metadata": {
        "id": "HDpUE5Wm2dv0"
      },
      "execution_count": 29,
      "outputs": []
    },
    {
      "cell_type": "code",
      "source": [
        "# Dataset Rows & Columns count\n",
        "df.shape"
      ],
      "metadata": {
        "colab": {
          "base_uri": "https://localhost:8080/"
        },
        "id": "W-W-Sh122gHX",
        "outputId": "ba187aaf-1650-4d6e-8a37-8a2bd187f2dc"
      },
      "execution_count": 30,
      "outputs": [
        {
          "output_type": "execute_result",
          "data": {
            "text/plain": [
              "(7777, 14)"
            ]
          },
          "metadata": {},
          "execution_count": 30
        }
      ]
    },
    {
      "cell_type": "code",
      "source": [
        "# Dataset Info\n",
        "df.info()"
      ],
      "metadata": {
        "colab": {
          "base_uri": "https://localhost:8080/"
        },
        "id": "PDV_AoDvPNxF",
        "outputId": "35de4949-b296-4c4d-dbc1-c57b8bc146f4"
      },
      "execution_count": 31,
      "outputs": [
        {
          "output_type": "stream",
          "name": "stdout",
          "text": [
            "<class 'pandas.core.frame.DataFrame'>\n",
            "Int64Index: 7777 entries, 0 to 7786\n",
            "Data columns (total 14 columns):\n",
            " #   Column        Non-Null Count  Dtype         \n",
            "---  ------        --------------  -----         \n",
            " 0   show_id       7777 non-null   object        \n",
            " 1   type          7777 non-null   object        \n",
            " 2   title         7777 non-null   object        \n",
            " 3   director      7777 non-null   object        \n",
            " 4   cast          7777 non-null   object        \n",
            " 5   country       7777 non-null   object        \n",
            " 6   release_year  7777 non-null   int64         \n",
            " 7   rating        7777 non-null   object        \n",
            " 8   duration      7777 non-null   int64         \n",
            " 9   listed_in     7777 non-null   object        \n",
            " 10  description   7777 non-null   object        \n",
            " 11  date_added    7777 non-null   datetime64[ns]\n",
            " 12  month_added   7777 non-null   int64         \n",
            " 13  year_added    7777 non-null   int64         \n",
            "dtypes: datetime64[ns](1), int64(4), object(9)\n",
            "memory usage: 911.4+ KB\n"
          ]
        }
      ]
    },
    {
      "cell_type": "markdown",
      "source": [
        "## ***4. Data Vizualization, Storytelling & Experimenting with charts : Understand the relationships between variables***"
      ],
      "metadata": {
        "id": "JqAA0xVoFzg2"
      }
    },
    {
      "cell_type": "markdown",
      "source": [
        "# **Chart-1** "
      ],
      "metadata": {
        "id": "noehOUfxL-d1"
      }
    },
    {
      "cell_type": "code",
      "source": [
        "# Number of Movies and TV Shows in the dataset\n",
        "plt.figure(figsize=(7,7))\n",
        "df.type.value_counts().plot(kind='pie',autopct='%1.2f%%')\n",
        "plt.ylabel('')\n",
        "plt.title('Movies and TV Shows in the dataset')"
      ],
      "metadata": {
        "colab": {
          "base_uri": "https://localhost:8080/",
          "height": 444
        },
        "id": "ZVxKCNQNFGbe",
        "outputId": "626313e3-3164-4c23-b348-ce867b801d0d"
      },
      "execution_count": 32,
      "outputs": [
        {
          "output_type": "execute_result",
          "data": {
            "text/plain": [
              "Text(0.5, 1.0, 'Movies and TV Shows in the dataset')"
            ]
          },
          "metadata": {},
          "execution_count": 32
        },
        {
          "output_type": "display_data",
          "data": {
            "text/plain": [
              "<Figure size 504x504 with 1 Axes>"
            ],
            "image/png": "[encoded data removed]"
          },
          "metadata": {}
        }
      ]
    },
    {
      "cell_type": "markdown",
      "source": [
        "i. A pie chart, sometimes called a circle chart, is a way of summarizing a set of nominal data or displaying the different values of a given variable\n",
        "\n",
        "\n",
        "\n",
        "ii. In this pie plot there are more movies 69.14% than TV shows 30.86% in the dataset."
      ],
      "metadata": {
        "id": "BcrMN_43gW3h"
      }
    },
    {
      "cell_type": "markdown",
      "source": [
        "# **Chart-2**"
      ],
      "metadata": {
        "id": "LkjIqkuUcv12"
      }
    },
    {
      "cell_type": "code",
      "source": [
        "# Top 10 directors in the dataset\n",
        "plt.figure(figsize=(10,5))\n",
        "df[~(df['director']=='Unknown')].director.value_counts().nlargest(10).plot(kind='bar')\n",
        "plt.title('Top 10 directors by number of shows directed')"
      ],
      "metadata": {
        "colab": {
          "base_uri": "https://localhost:8080/",
          "height": 459
        },
        "id": "xpMpdF1T4A_Q",
        "outputId": "8fe3bb60-367e-4a45-8753-aa9cdb1ffc62"
      },
      "execution_count": 33,
      "outputs": [
        {
          "output_type": "execute_result",
          "data": {
            "text/plain": [
              "Text(0.5, 1.0, 'Top 10 directors by number of shows directed')"
            ]
          },
          "metadata": {},
          "execution_count": 33
        },
        {
          "output_type": "display_data",
          "data": {
            "text/plain": [
              "<Figure size 720x360 with 1 Axes>"
            ],
            "image/png": "[encoded data removed]"
          },
          "metadata": {
            "needs_background": "light"
          }
        }
      ]
    },
    {
      "cell_type": "markdown",
      "source": [
        "i. A barplot (or barchart) is one of the most common types of graphic. It shows the relationship between a numeric and a categoric variable. Each entity of the categoric variable is represented as a bar. The size of the bar represents its numeric value.\n",
        "\n",
        "**ii. In this Bar plot there are showing Top 10 directors by number of shows directed.**\n",
        "\n",
        "1.Raul Campos jan Suter are the top 1 director.\n",
        "\n",
        "2.Rayan Polito are top 10 director\n"
      ],
      "metadata": {
        "id": "vO2YgxXtgy80"
      }
    },
    {
      "cell_type": "markdown",
      "source": [
        "# **Chart-3**"
      ],
      "metadata": {
        "id": "zkecrJ1kc2ez"
      }
    },
    {
      "cell_type": "code",
      "source": [
        "# Top 10 countries with the highest number movies / TV shows in the dataset\n",
        "plt.figure(figsize=(10,5))\n",
        "df[~(df['country']=='Unknown')].country.value_counts().nlargest(10).plot(kind='bar')\n",
        "plt.title(' Top 10 countries with the highest number of shows')"
      ],
      "metadata": {
        "colab": {
          "base_uri": "https://localhost:8080/",
          "height": 423
        },
        "id": "iJkpHPFI4HKj",
        "outputId": "53223145-cf8b-4c0b-9367-90019f721ca7"
      },
      "execution_count": 34,
      "outputs": [
        {
          "output_type": "execute_result",
          "data": {
            "text/plain": [
              "Text(0.5, 1.0, ' Top 10 countries with the highest number of shows')"
            ]
          },
          "metadata": {},
          "execution_count": 34
        },
        {
          "output_type": "display_data",
          "data": {
            "text/plain": [
              "<Figure size 720x360 with 1 Axes>"
            ],
            "image/png": "[encoded data removed]"
          },
          "metadata": {
            "needs_background": "light"
          }
        }
      ]
    },
    {
      "cell_type": "markdown",
      "source": [
        " A bar plot shows catergorical data as rectangular bars with the height of bars proportional to the value they represent.\n",
        "\n",
        "**In that bar graph showing Top 10 countries with the highest number movies / TV shows in the dataset.**\n",
        "\n",
        "1.united States are the top one country of highest number movies / TV shows in the dataset.\n",
        "\n",
        "2.Australia are the top 10 highest number movies / TV shows in the dataset"
      ],
      "metadata": {
        "id": "3yGXdYTNh3lU"
      }
    },
    {
      "cell_type": "code",
      "source": [
        "# % share of movies / tv shows by top 3 countries\n",
        "df.country.value_counts().nlargest(3).sum()/len(df)*100"
      ],
      "metadata": {
        "colab": {
          "base_uri": "https://localhost:8080/"
        },
        "id": "rP_cIJTG4Q5T",
        "outputId": "05bff72d-d06e-408b-bcda-3668eb76e2e5"
      },
      "execution_count": 35,
      "outputs": [
        {
          "output_type": "execute_result",
          "data": {
            "text/plain": [
              "56.69281213835669"
            ]
          },
          "metadata": {},
          "execution_count": 35
        }
      ]
    },
    {
      "cell_type": "code",
      "source": [
        "# % share of movies / tv shows by top 10 countries\n",
        "df.country.value_counts().nlargest(10).sum()/len(df)*100"
      ],
      "metadata": {
        "colab": {
          "base_uri": "https://localhost:8080/"
        },
        "id": "HnSwqB3r4ZER",
        "outputId": "718aca7b-5322-4fcd-d718-a25e191098a1"
      },
      "execution_count": 36,
      "outputs": [
        {
          "output_type": "execute_result",
          "data": {
            "text/plain": [
              "78.32068921177832"
            ]
          },
          "metadata": {},
          "execution_count": 36
        }
      ]
    },
    {
      "cell_type": "markdown",
      "source": [
        "# **Chart-4**"
      ],
      "metadata": {
        "id": "GgxtnZbtc7Uw"
      }
    },
    {
      "cell_type": "code",
      "source": [
        "# Visualizing the year in which the movie / tv show was released\n",
        "plt.figure(figsize=(10,5))\n",
        "sns.histplot(df['release_year'])\n",
        "plt.title('distribution by released year')"
      ],
      "metadata": {
        "colab": {
          "base_uri": "https://localhost:8080/",
          "height": 368
        },
        "id": "pIKYpTgO4e-T",
        "outputId": "aee729e7-f3e6-4b1f-f74d-516b48403150"
      },
      "execution_count": 37,
      "outputs": [
        {
          "output_type": "execute_result",
          "data": {
            "text/plain": [
              "Text(0.5, 1.0, 'distribution by released year')"
            ]
          },
          "metadata": {},
          "execution_count": 37
        },
        {
          "output_type": "display_data",
          "data": {
            "text/plain": [
              "<Figure size 720x360 with 1 Axes>"
            ],
            "image/png": "[encoded data removed]"
          },
          "metadata": {
            "needs_background": "light"
          }
        }
      ]
    },
    {
      "cell_type": "markdown",
      "source": [
        "i. In statistics, a histogram is a graphical representation of the distribution of data. The histogram is represented by a set of rectangles, adjacent to each other, where each bar represent a kind of data.\n",
        "\n",
        "ii. In this histogram we found release_year 2000 to 2020 more the the movie / tv show was released\n"
      ],
      "metadata": {
        "id": "Ip18Ih8d8pUN"
      }
    },
    {
      "cell_type": "markdown",
      "source": [
        "# **Chart-5**"
      ],
      "metadata": {
        "id": "0957FPtiAm40"
      }
    },
    {
      "cell_type": "code",
      "source": [
        "# Length distribution of movies\n",
        "movie_df = df[df['type']=='Movie']\n",
        "\n",
        "plt.figure(figsize=(14, 7))\n",
        "\n",
        "sns.distplot(movie_df['duration'], bins=30,color='Blue').set(ylabel=None)\n",
        "\n",
        "plt.title('Length distribution of movies', fontsize=16,fontweight=\"bold\")\n",
        "plt.xlabel('Duration', fontsize=14)\n",
        "plt.show()"
      ],
      "metadata": {
        "colab": {
          "base_uri": "https://localhost:8080/",
          "height": 464
        },
        "id": "X3fB7oEXkou3",
        "outputId": "7895d88e-8bb3-4334-d671-b5d7aab6d754"
      },
      "execution_count": 38,
      "outputs": [
        {
          "output_type": "display_data",
          "data": {
            "text/plain": [
              "<Figure size 1008x504 with 1 Axes>"
            ],
            "image/png": "[encoded data removed]"
          },
          "metadata": {
            "needs_background": "light"
          }
        }
      ]
    },
    {
      "cell_type": "markdown",
      "source": [
        "in this plot we found the Length distribution of movies duration.we see 0 to 100  duration movies are increases and 100 to 200 duration are decreases."
      ],
      "metadata": {
        "id": "n4TCGbXK_689"
      }
    },
    {
      "cell_type": "markdown",
      "source": [
        "# **Chart-6** "
      ],
      "metadata": {
        "id": "LnDuHimAQAoh"
      }
    },
    {
      "cell_type": "code",
      "source": [
        "# Age ratings for shows in the dataset\n",
        "plt.figure(figsize=(10,5))\n",
        "sns.countplot(x='rating',data=df)"
      ],
      "metadata": {
        "colab": {
          "base_uri": "https://localhost:8080/",
          "height": 354
        },
        "id": "gEC9dE9PFGdR",
        "outputId": "b706e495-8f0d-4428-8d01-f4a038809ba2"
      },
      "execution_count": 39,
      "outputs": [
        {
          "output_type": "execute_result",
          "data": {
            "text/plain": [
              "<matplotlib.axes._subplots.AxesSubplot at 0x7fdd232b5970>"
            ]
          },
          "metadata": {},
          "execution_count": 39
        },
        {
          "output_type": "display_data",
          "data": {
            "text/plain": [
              "<Figure size 720x360 with 1 Axes>"
            ],
            "image/png": "[encoded data removed]"
          },
          "metadata": {
            "needs_background": "light"
          }
        }
      ]
    },
    {
      "cell_type": "markdown",
      "source": [
        "i. countplot() method is used to Show the counts of observations in each categorical bin using bars.\n",
        "\n",
        "ii. in this plot we found all rating count. TV-MA is the highest rating and second highest is TV-14 and third highest is TV-PG rating."
      ],
      "metadata": {
        "id": "o9BZoUNhBUmf"
      }
    },
    {
      "cell_type": "code",
      "source": [
        "# Changing the values in the rating column\n",
        "rating_map = {'TV-MA':'Adults',\n",
        "              'R':'Adults',\n",
        "              'PG-13':'Teens',\n",
        "              'TV-14':'Young Adults',\n",
        "              'TV-PG':'Older Kids',\n",
        "              'NR':'Adults',\n",
        "              'TV-G':'Kids',\n",
        "              'TV-Y':'Kids',\n",
        "              'TV-Y7':'Older Kids',\n",
        "              'PG':'Older Kids',\n",
        "              'G':'Kids',\n",
        "              'NC-17':'Adults',\n",
        "              'TV-Y7-FV':'Older Kids',\n",
        "              'UR':'Adults'}\n",
        "\n",
        "df['rating'].replace(rating_map, inplace = True)\n",
        "df['rating'].unique()"
      ],
      "metadata": {
        "colab": {
          "base_uri": "https://localhost:8080/"
        },
        "id": "EQ2ejBhOFGfo",
        "outputId": "e81eacab-f8f6-4f5c-b098-55f5ef1e405d"
      },
      "execution_count": 40,
      "outputs": [
        {
          "output_type": "execute_result",
          "data": {
            "text/plain": [
              "array(['Adults', 'Teens', 'Young Adults', 'Older Kids', 'Kids'],\n",
              "      dtype=object)"
            ]
          },
          "metadata": {},
          "execution_count": 40
        }
      ]
    },
    {
      "cell_type": "code",
      "source": [
        "df['principal_country'] = df['country'].apply(lambda x: x.split(\",\")[0])\n",
        "df['principal_country'].head()\n",
        "\n",
        "country_order = df['principal_country'].value_counts()[:11].index\n",
        "content_data = df[['type', 'principal_country']].groupby('principal_country')['type'].value_counts().unstack().loc[country_order]\n",
        "content_data['sum'] = content_data.sum(axis=1)\n",
        "content_data_ratio = (content_data.T / content_data['sum']).T[['Movie', 'TV Show']].sort_values(by='Movie',ascending=False)[::-1]"
      ],
      "metadata": {
        "id": "eWcqNuygpkOA"
      },
      "execution_count": 41,
      "outputs": []
    },
    {
      "cell_type": "code",
      "source": [
        "df['count'] = 1\n",
        "data = df.groupby('principal_country')[['principal_country','count']].sum().sort_values(by='count',ascending=False).reset_index()[:10]\n",
        "data = data['principal_country']\n",
        "\n",
        "Flix_df_heatmap = df.loc[df['principal_country'].isin(data)]\n",
        "Flix_df_heatmap = pd.crosstab(Flix_df_heatmap['principal_country'], Flix_df_heatmap['rating'],normalize = \"index\").T\n",
        "Flix_df_heatmap"
      ],
      "metadata": {
        "colab": {
          "base_uri": "https://localhost:8080/",
          "height": 237
        },
        "id": "bMfXspsepLRn",
        "outputId": "738ab2d7-1d00-465c-b562-d45e25b2f237"
      },
      "execution_count": 42,
      "outputs": [
        {
          "output_type": "execute_result",
          "data": {
            "text/plain": [
              "principal_country    Canada    France     India     Japan    Mexico  \\\n",
              "rating                                                                \n",
              "Adults             0.467181  0.627551  0.259414  0.368644  0.764228   \n",
              "Kids               0.150579  0.086735  0.015690  0.008475  0.016260   \n",
              "Older Kids         0.220077  0.112245  0.163180  0.275424  0.089431   \n",
              "Teens              0.027027  0.030612  0.004184  0.012712  0.016260   \n",
              "Young Adults       0.135135  0.142857  0.557531  0.334746  0.113821   \n",
              "\n",
              "principal_country  South Korea     Spain  United Kingdom  United States  \\\n",
              "rating                                                                    \n",
              "Adults                0.463918  0.797619        0.526042       0.489051   \n",
              "Kids                  0.046392  0.035714        0.078125       0.074731   \n",
              "Older Kids            0.123711  0.053571        0.184028       0.196038   \n",
              "Teens                 0.000000  0.017857        0.071181       0.098366   \n",
              "Young Adults          0.365979  0.095238        0.140625       0.141814   \n",
              "\n",
              "principal_country   Unknown  \n",
              "rating                       \n",
              "Adults             0.320158  \n",
              "Kids               0.169960  \n",
              "Older Kids         0.235178  \n",
              "Teens              0.005929  \n",
              "Young Adults       0.268775  "
            ],
            "text/html": [
              "\n",
              "  <div id=\"df-be2dace2-ccdc-498b-90a5-1b22f4d83098\">\n",
              "    <div class=\"colab-df-container\">\n",
              "      <div>\n",
              "<style scoped>\n",
              "    .dataframe tbody tr th:only-of-type {\n",
              "        vertical-align: middle;\n",
              "    }\n",
              "\n",
              "    .dataframe tbody tr th {\n",
              "        vertical-align: top;\n",
              "    }\n",
              "\n",
              "    .dataframe thead th {\n",
              "        text-align: right;\n",
              "    }\n",
              "</style>\n",
              "<table border=\"1\" class=\"dataframe\">\n",
              "  <thead>\n",
              "    <tr style=\"text-align: right;\">\n",
              "      <th>principal_country</th>\n",
              "      <th>Canada</th>\n",
              "      <th>France</th>\n",
              "      <th>India</th>\n",
              "      <th>Japan</th>\n",
              "      <th>Mexico</th>\n",
              "      <th>South Korea</th>\n",
              "      <th>Spain</th>\n",
              "      <th>United Kingdom</th>\n",
              "      <th>United States</th>\n",
              "      <th>Unknown</th>\n",
              "    </tr>\n",
              "    <tr>\n",
              "      <th>rating</th>\n",
              "      <th></th>\n",
              "      <th></th>\n",
              "      <th></th>\n",
              "      <th></th>\n",
              "      <th></th>\n",
              "      <th></th>\n",
              "      <th></th>\n",
              "      <th></th>\n",
              "      <th></th>\n",
              "      <th></th>\n",
              "    </tr>\n",
              "  </thead>\n",
              "  <tbody>\n",
              "    <tr>\n",
              "      <th>Adults</th>\n",
              "      <td>0.467181</td>\n",
              "      <td>0.627551</td>\n",
              "      <td>0.259414</td>\n",
              "      <td>0.368644</td>\n",
              "      <td>0.764228</td>\n",
              "      <td>0.463918</td>\n",
              "      <td>0.797619</td>\n",
              "      <td>0.526042</td>\n",
              "      <td>0.489051</td>\n",
              "      <td>0.320158</td>\n",
              "    </tr>\n",
              "    <tr>\n",
              "      <th>Kids</th>\n",
              "      <td>0.150579</td>\n",
              "      <td>0.086735</td>\n",
              "      <td>0.015690</td>\n",
              "      <td>0.008475</td>\n",
              "      <td>0.016260</td>\n",
              "      <td>0.046392</td>\n",
              "      <td>0.035714</td>\n",
              "      <td>0.078125</td>\n",
              "      <td>0.074731</td>\n",
              "      <td>0.169960</td>\n",
              "    </tr>\n",
              "    <tr>\n",
              "      <th>Older Kids</th>\n",
              "      <td>0.220077</td>\n",
              "      <td>0.112245</td>\n",
              "      <td>0.163180</td>\n",
              "      <td>0.275424</td>\n",
              "      <td>0.089431</td>\n",
              "      <td>0.123711</td>\n",
              "      <td>0.053571</td>\n",
              "      <td>0.184028</td>\n",
              "      <td>0.196038</td>\n",
              "      <td>0.235178</td>\n",
              "    </tr>\n",
              "    <tr>\n",
              "      <th>Teens</th>\n",
              "      <td>0.027027</td>\n",
              "      <td>0.030612</td>\n",
              "      <td>0.004184</td>\n",
              "      <td>0.012712</td>\n",
              "      <td>0.016260</td>\n",
              "      <td>0.000000</td>\n",
              "      <td>0.017857</td>\n",
              "      <td>0.071181</td>\n",
              "      <td>0.098366</td>\n",
              "      <td>0.005929</td>\n",
              "    </tr>\n",
              "    <tr>\n",
              "      <th>Young Adults</th>\n",
              "      <td>0.135135</td>\n",
              "      <td>0.142857</td>\n",
              "      <td>0.557531</td>\n",
              "      <td>0.334746</td>\n",
              "      <td>0.113821</td>\n",
              "      <td>0.365979</td>\n",
              "      <td>0.095238</td>\n",
              "      <td>0.140625</td>\n",
              "      <td>0.141814</td>\n",
              "      <td>0.268775</td>\n",
              "    </tr>\n",
              "  </tbody>\n",
              "</table>\n",
              "</div>\n",
              "      <button class=\"colab-df-convert\" onclick=\"convertToInteractive('df-be2dace2-ccdc-498b-90a5-1b22f4d83098')\"\n",
              "              title=\"Convert this dataframe to an interactive table.\"\n",
              "              style=\"display:none;\">\n",
              "        \n",
              "  <svg xmlns=\"http://www.w3.org/2000/svg\" height=\"24px\"viewBox=\"0 0 24 24\"\n",
              "       width=\"24px\">\n",
              "    <path d=\"M0 0h24v24H0V0z\" fill=\"none\"/>\n",
              "    <path d=\"M18.56 5.44l.94 2.06.94-2.06 2.06-.94-2.06-.94-.94-2.06-.94 2.06-2.06.94zm-11 1L8.5 8.5l.94-2.06 2.06-.94-2.06-.94L8.5 2.5l-.94 2.06-2.06.94zm10 10l.94 2.06.94-2.06 2.06-.94-2.06-.94-.94-2.06-.94 2.06-2.06.94z\"/><path d=\"M17.41 7.96l-1.37-1.37c-.4-.4-.92-.59-1.43-.59-.52 0-1.04.2-1.43.59L10.3 9.45l-7.72 7.72c-.78.78-.78 2.05 0 2.83L4 21.41c.39.39.9.59 1.41.59.51 0 1.02-.2 1.41-.59l7.78-7.78 2.81-2.81c.8-.78.8-2.07 0-2.86zM5.41 20L4 18.59l7.72-7.72 1.47 1.35L5.41 20z\"/>\n",
              "  </svg>\n",
              "      </button>\n",
              "      \n",
              "  <style>\n",
              "    .colab-df-container {\n",
              "      display:flex;\n",
              "      flex-wrap:wrap;\n",
              "      gap: 12px;\n",
              "    }\n",
              "\n",
              "    .colab-df-convert {\n",
              "      background-color: #E8F0FE;\n",
              "      border: none;\n",
              "      border-radius: 50%;\n",
              "      cursor: pointer;\n",
              "      display: none;\n",
              "      fill: #1967D2;\n",
              "      height: 32px;\n",
              "      padding: 0 0 0 0;\n",
              "      width: 32px;\n",
              "    }\n",
              "\n",
              "    .colab-df-convert:hover {\n",
              "      background-color: #E2EBFA;\n",
              "      box-shadow: 0px 1px 2px rgba(60, 64, 67, 0.3), 0px 1px 3px 1px rgba(60, 64, 67, 0.15);\n",
              "      fill: #174EA6;\n",
              "    }\n",
              "\n",
              "    [theme=dark] .colab-df-convert {\n",
              "      background-color: #3B4455;\n",
              "      fill: #D2E3FC;\n",
              "    }\n",
              "\n",
              "    [theme=dark] .colab-df-convert:hover {\n",
              "      background-color: #434B5C;\n",
              "      box-shadow: 0px 1px 3px 1px rgba(0, 0, 0, 0.15);\n",
              "      filter: drop-shadow(0px 1px 2px rgba(0, 0, 0, 0.3));\n",
              "      fill: #FFFFFF;\n",
              "    }\n",
              "  </style>\n",
              "\n",
              "      <script>\n",
              "        const buttonEl =\n",
              "          document.querySelector('#df-be2dace2-ccdc-498b-90a5-1b22f4d83098 button.colab-df-convert');\n",
              "        buttonEl.style.display =\n",
              "          google.colab.kernel.accessAllowed ? 'block' : 'none';\n",
              "\n",
              "        async function convertToInteractive(key) {\n",
              "          const element = document.querySelector('#df-be2dace2-ccdc-498b-90a5-1b22f4d83098');\n",
              "          const dataTable =\n",
              "            await google.colab.kernel.invokeFunction('convertToInteractive',\n",
              "                                                     [key], {});\n",
              "          if (!dataTable) return;\n",
              "\n",
              "          const docLinkHtml = 'Like what you see? Visit the ' +\n",
              "            '<a target=\"_blank\" href=https://colab.research.google.com/notebooks/data_table.ipynb>data table notebook</a>'\n",
              "            + ' to learn more about interactive tables.';\n",
              "          element.innerHTML = '';\n",
              "          dataTable['output_type'] = 'display_data';\n",
              "          await google.colab.output.renderOutput(dataTable, element);\n",
              "          const docLink = document.createElement('div');\n",
              "          docLink.innerHTML = docLinkHtml;\n",
              "          element.appendChild(docLink);\n",
              "        }\n",
              "      </script>\n",
              "    </div>\n",
              "  </div>\n",
              "  "
            ]
          },
          "metadata": {},
          "execution_count": 42
        }
      ]
    },
    {
      "cell_type": "markdown",
      "source": [
        "# **Chart-7**"
      ],
      "metadata": {
        "id": "hkqnsidUAxs1"
      }
    },
    {
      "cell_type": "markdown",
      "source": [
        "# **Correlation Heatmap**"
      ],
      "metadata": {
        "id": "JN5J8Rn1qKjx"
      }
    },
    {
      "cell_type": "code",
      "source": [
        "# Plotting the heatmap\n",
        "fig, ax = plt.subplots(1, 1, figsize=(12, 12))\n",
        "country_order2 = ['United States', 'India', 'United Kingdom', 'Canada', 'Japan', 'France', 'South Korea', 'Spain',\n",
        "       'Mexico']\n",
        "\n",
        "age_order = ['Adults', 'Teens', 'Young Adults', 'Older Kids', 'Kids']\n",
        "\n",
        "sns.heatmap(Flix_df_heatmap.loc[age_order,country_order2],cmap=\"jet\",square=True, linewidth=2.5,cbar=False,\n",
        "            annot=True,fmt='2.0%',vmax=.6,vmin=0.05,ax=ax,annot_kws={\"fontsize\":15})\n",
        "\n",
        "ax.spines['top'].set_visible(True)\n",
        "\n",
        "fig.text(.76,.765, 'Target ages proportion of total content by country', fontweight='bold', fontfamily='serif', fontsize=15,ha='right')   \n",
        "\n",
        "ax.set_yticklabels(ax.get_yticklabels(), fontfamily='serif', rotation = 0, fontsize=11)\n",
        "ax.set_xticklabels(ax.get_xticklabels(), fontfamily='serif', rotation=90, fontsize=11)\n",
        "\n",
        "ax.set_ylabel('')    \n",
        "ax.set_xlabel('')\n",
        "ax.tick_params(axis=u'both', which=u'both',length=0)\n",
        "plt.tight_layout()\n",
        "plt.show()"
      ],
      "metadata": {
        "colab": {
          "base_uri": "https://localhost:8080/",
          "height": 578
        },
        "id": "0B-3cBVLp79X",
        "outputId": "537810a2-79f2-4f40-f821-a678dc826ac4"
      },
      "execution_count": 43,
      "outputs": [
        {
          "output_type": "display_data",
          "data": {
            "text/plain": [
              "<Figure size 864x864 with 1 Axes>"
            ],
            "image/png": "[encoded data removed]"
          },
          "metadata": {
            "needs_background": "light"
          }
        }
      ]
    },
    {
      "cell_type": "markdown",
      "source": [
        "i. A correlation matrix is a table showing correlation coefficients between variables. Each cell in the table shows the correlation between two variables. A correlation matrix is used to summarize data, as an input into a more advanced analysis, and as a diagnostic for advanced analyses. The range of correlation is [-1,1].\n",
        "\n",
        "ii. Thus to know the correlation between all the variables along with the correlation coefficients, i used correlation heatmap.\n",
        "\n",
        "iii. In this correlation Heatmap graph we found the Target ages proportion of total content by country."
      ],
      "metadata": {
        "id": "t6aM1F4WCnu7"
      }
    },
    {
      "cell_type": "markdown",
      "source": [
        "# **Chart-8**"
      ],
      "metadata": {
        "id": "Q5x5Oq71dD-Y"
      }
    },
    {
      "cell_type": "code",
      "source": [
        "# Age ratings for shows in the dataset\n",
        "plt.figure(figsize=(10,5))\n",
        "sns.countplot(x='rating',data=df)\n",
        "plt.title('Number of shows on Netflix for different age groups')"
      ],
      "metadata": {
        "colab": {
          "base_uri": "https://localhost:8080/",
          "height": 367
        },
        "id": "l14GaT0NFGg1",
        "outputId": "34d7184e-4fd1-476f-d243-66a4de1f0571"
      },
      "execution_count": 44,
      "outputs": [
        {
          "output_type": "execute_result",
          "data": {
            "text/plain": [
              "Text(0.5, 1.0, 'Number of shows on Netflix for different age groups')"
            ]
          },
          "metadata": {},
          "execution_count": 44
        },
        {
          "output_type": "display_data",
          "data": {
            "text/plain": [
              "<Figure size 720x360 with 1 Axes>"
            ],
            "image/png": "[encoded data removed]"
          },
          "metadata": {
            "needs_background": "light"
          }
        }
      ]
    },
    {
      "cell_type": "markdown",
      "source": [
        "i. i. countplot() method is used to Show the counts of observations in each categorical bin using bars.\n",
        "\n",
        "ii. In this count plot we found that Number of shows on Netflix for different age groups and Adults are the highest number of shows and second highest is Young Adults and third highest is older Kids shows."
      ],
      "metadata": {
        "id": "SRE-rxIeDR1p"
      }
    },
    {
      "cell_type": "markdown",
      "source": [
        "# **Chart-9**"
      ],
      "metadata": {
        "id": "qCddGG-TdqbD"
      }
    },
    {
      "cell_type": "markdown",
      "source": [
        "# **Genres**"
      ],
      "metadata": {
        "id": "m5kRpvle4rVK"
      }
    },
    {
      "cell_type": "code",
      "source": [
        "# Top 10 genres \n",
        "plt.figure(figsize=(10,5))\n",
        "df.listed_in.value_counts().nlargest(10).plot(kind='bar')\n",
        "plt.title('Top 10 genres')"
      ],
      "metadata": {
        "colab": {
          "base_uri": "https://localhost:8080/",
          "height": 469
        },
        "id": "QGI1HsLw4zUD",
        "outputId": "9e26c5b6-6ab7-4341-eb56-1a0b77a3762e"
      },
      "execution_count": 45,
      "outputs": [
        {
          "output_type": "execute_result",
          "data": {
            "text/plain": [
              "Text(0.5, 1.0, 'Top 10 genres')"
            ]
          },
          "metadata": {},
          "execution_count": 45
        },
        {
          "output_type": "display_data",
          "data": {
            "text/plain": [
              "<Figure size 720x360 with 1 Axes>"
            ],
            "image/png": "[encoded data removed]"
          },
          "metadata": {
            "needs_background": "light"
          }
        }
      ]
    },
    {
      "cell_type": "markdown",
      "source": [
        "i. A bar graph is a graphical representation of data in which we can highlight the category with particular shapes like a rectangle. The length and heights of the bar chart represent the data distributed in the dataset. In a bar chart, we have one axis representing a particular category of a column in the dataset and another axis representing the values or counts associated with it.  Bar charts can be plotted vertically or horizontally. A vertical bar chart is often called a column chart. \n",
        "\n",
        "ii. In this  bar plot we found Dramas are large value_counts of shows and movies and Comedies are the second large value_counts of shows and Movies."
      ],
      "metadata": {
        "id": "dBEyc_fDEfQY"
      }
    },
    {
      "cell_type": "code",
      "source": [
        "# Share of top 3 genres\n",
        "df.listed_in.value_counts().nlargest(3).sum()/len(df)*100"
      ],
      "metadata": {
        "colab": {
          "base_uri": "https://localhost:8080/"
        },
        "id": "jnsMqSBx4zgA",
        "outputId": "b98e1ed9-8605-45a9-f38e-d3f5527f1224"
      },
      "execution_count": 46,
      "outputs": [
        {
          "output_type": "execute_result",
          "data": {
            "text/plain": [
              "41.26269769834126"
            ]
          },
          "metadata": {},
          "execution_count": 46
        }
      ]
    },
    {
      "cell_type": "code",
      "source": [
        "# Share of top 10 genres\n",
        "df.listed_in.value_counts().nlargest(10).sum()/len(df)*100"
      ],
      "metadata": {
        "colab": {
          "base_uri": "https://localhost:8080/"
        },
        "id": "ehgYF4by4zig",
        "outputId": "4535b263-ebeb-4e3d-b0f4-a160ebcbac2e"
      },
      "execution_count": 47,
      "outputs": [
        {
          "output_type": "execute_result",
          "data": {
            "text/plain": [
              "82.44824482448246"
            ]
          },
          "metadata": {},
          "execution_count": 47
        }
      ]
    },
    {
      "cell_type": "markdown",
      "source": [
        "# **Chart-10**"
      ],
      "metadata": {
        "id": "6oUzFFG-dxwi"
      }
    },
    {
      "cell_type": "code",
      "source": [
        "# Number of shows added on different months\n",
        "plt.figure(figsize = (10,5)) \n",
        "sns.countplot(df['month_added'])\n",
        "plt.title('Shows added each month over the years')\n",
        "plt.xlabel('')"
      ],
      "metadata": {
        "colab": {
          "base_uri": "https://localhost:8080/",
          "height": 353
        },
        "id": "W1vI_iOo4zlj",
        "outputId": "f89a21f8-375a-4432-e207-27edb5a792a0"
      },
      "execution_count": 48,
      "outputs": [
        {
          "output_type": "execute_result",
          "data": {
            "text/plain": [
              "Text(0.5, 0, '')"
            ]
          },
          "metadata": {},
          "execution_count": 48
        },
        {
          "output_type": "display_data",
          "data": {
            "text/plain": [
              "<Figure size 720x360 with 1 Axes>"
            ],
            "image/png": "[encoded data removed]"
          },
          "metadata": {
            "needs_background": "light"
          }
        }
      ]
    },
    {
      "cell_type": "markdown",
      "source": [
        "i. in this count plot we found Number of shows added on different months.\n",
        "\n",
        "ii. December are the highest number of shows added on and Octobor are the second highest number of shows added on. we see all month minority difference between them."
      ],
      "metadata": {
        "id": "tL-g-vKjFJBn"
      }
    },
    {
      "cell_type": "markdown",
      "source": [
        "# **Chart-11**"
      ],
      "metadata": {
        "id": "DjqJs4cBd2J2"
      }
    },
    {
      "cell_type": "code",
      "source": [
        "# Number of shows added over the years\n",
        "plt.figure(figsize = (10,5)) \n",
        "sns.countplot(df['year_added'])\n",
        "plt.title('Number of shows added each year')\n",
        "plt.xlabel('')"
      ],
      "metadata": {
        "colab": {
          "base_uri": "https://localhost:8080/",
          "height": 353
        },
        "id": "xQ0KWcCf4zov",
        "outputId": "c530b7c0-caea-4d02-df68-17f42223303f"
      },
      "execution_count": 49,
      "outputs": [
        {
          "output_type": "execute_result",
          "data": {
            "text/plain": [
              "Text(0.5, 0, '')"
            ]
          },
          "metadata": {},
          "execution_count": 49
        },
        {
          "output_type": "display_data",
          "data": {
            "text/plain": [
              "<Figure size 720x360 with 1 Axes>"
            ],
            "image/png": "[encoded data removed]"
          },
          "metadata": {
            "needs_background": "light"
          }
        }
      ]
    },
    {
      "cell_type": "markdown",
      "source": [
        "i. in this count plot we found Number of shows added on each different years.\n",
        "\n",
        "ii. 2019 are the highest number of shows added on and 2020 are the second highest number of shows added on and 2018 are the third highest number of shows added on."
      ],
      "metadata": {
        "id": "D8Ts43elGEUu"
      }
    },
    {
      "cell_type": "markdown",
      "source": [
        "# **Chart-12**"
      ],
      "metadata": {
        "id": "xSe8iJXpd7KZ"
      }
    },
    {
      "cell_type": "markdown",
      "source": [
        "# **Biovariate Analysis**"
      ],
      "metadata": {
        "id": "L9PYWDtn5Z8c"
      }
    },
    {
      "cell_type": "code",
      "source": [
        "# Number of movies and TV shows added over the years\n",
        "plt.figure(figsize=(10,5))\n",
        "p = sns.countplot(x='year_added',data=df, hue='type')\n",
        "plt.title('Number of movies and TV shows added over the years')\n",
        "plt.xlabel('')\n",
        "for i in p.patches:\n",
        "  p.annotate(format(i.get_height(), '.0f'), (i.get_x() + i.get_width() / 2., i.get_height()), ha = 'center', va = 'center', xytext = (0, 10), textcoords = 'offset points')"
      ],
      "metadata": {
        "colab": {
          "base_uri": "https://localhost:8080/",
          "height": 336
        },
        "id": "d9E6T53z5ei-",
        "outputId": "0be9f9ea-0ccc-4c8f-a401-fb42047dcdaa"
      },
      "execution_count": 50,
      "outputs": [
        {
          "output_type": "display_data",
          "data": {
            "text/plain": [
              "<Figure size 720x360 with 1 Axes>"
            ],
            "image/png": "[encoded data removed]"
          },
          "metadata": {
            "needs_background": "light"
          }
        }
      ]
    },
    {
      "cell_type": "markdown",
      "source": [
        "i. A bivariate plot graphs the relationship between two variables that have been measured on a single sample of subjects. Such a plot permits you to see at a glance the degree and pattern of relation between the two variables.\n",
        "\n",
        "ii. In this graph we found that Number of movies and TV shows added over the years.2019 are the 1497 movies and 656 TV shows are there. 2020 year 1312 movies and 697 TV shows are there and 2018 year 1255 movies and 430 TV shows are there.\n",
        "\n",
        "\n"
      ],
      "metadata": {
        "id": "QqfxZdIBG9jf"
      }
    },
    {
      "cell_type": "markdown",
      "source": [
        "# **Chart-13**"
      ],
      "metadata": {
        "id": "C4yRwdgZd_1P"
      }
    },
    {
      "cell_type": "code",
      "source": [
        "# Number of shows released each year since 2008\n",
        "order = range(2008,2022)\n",
        "plt.figure(figsize=(10,5))\n",
        "p = sns.countplot(x='release_year',data=df, hue='type',\n",
        "                  order = order)\n",
        "plt.title('Number of shows released each year since 2008 that are on Netflix')\n",
        "plt.xlabel('')\n",
        "for i in p.patches:\n",
        "  p.annotate(format(i.get_height(), '.0f'), (i.get_x() + i.get_width() / 2., i.get_height()), ha = 'center', va = 'center', xytext = (0, 10), textcoords = 'offset points')"
      ],
      "metadata": {
        "colab": {
          "base_uri": "https://localhost:8080/",
          "height": 336
        },
        "id": "U1pAiSKX4zq-",
        "outputId": "950ec51a-b4ef-4883-ec43-b7fcb1d0d461"
      },
      "execution_count": 51,
      "outputs": [
        {
          "output_type": "display_data",
          "data": {
            "text/plain": [
              "<Figure size 720x360 with 1 Axes>"
            ],
            "image/png": "[encoded data removed]"
          },
          "metadata": {
            "needs_background": "light"
          }
        }
      ]
    },
    {
      "cell_type": "markdown",
      "source": [
        "\n",
        "i. A bivariate plot graphs the relationship between two variables that have been measured on a single sample of subjects. Such a plot permits you to see at a glance the degree and pattern of relation between the two variables.\n",
        "\n",
        "ii. In this graph we found that Number of shows released each year since 2008 that are on Netflix.see this graph Before 2019 Movies are highest number of released but 2020 and 2021 TV shows are the highest number of released."
      ],
      "metadata": {
        "id": "NM7O3RESIVgX"
      }
    },
    {
      "cell_type": "markdown",
      "source": [
        "# **Chart-14**"
      ],
      "metadata": {
        "id": "J5gg79DYeEhR"
      }
    },
    {
      "cell_type": "code",
      "source": [
        "# Seasons in each TV show\n",
        "plt.figure(figsize=(10,5))\n",
        "p = sns.countplot(x='duration',data=df[df['type']=='TV Show'])\n",
        "plt.title('Number of seasons per TV show distribution')\n",
        "\n",
        "for i in p.patches:\n",
        "  p.annotate(format(i.get_height(), '.0f'), (i.get_x() + i.get_width() / 2., i.get_height()), ha = 'center', va = 'center', xytext = (0, 10), textcoords = 'offset points')"
      ],
      "metadata": {
        "colab": {
          "base_uri": "https://localhost:8080/",
          "height": 350
        },
        "id": "2bGEuXTT6Dx1",
        "outputId": "8939577b-1bbc-48fb-b03a-792f6a404fef"
      },
      "execution_count": 52,
      "outputs": [
        {
          "output_type": "display_data",
          "data": {
            "text/plain": [
              "<Figure size 720x360 with 1 Axes>"
            ],
            "image/png": "[encoded data removed]"
          },
          "metadata": {
            "needs_background": "light"
          }
        }
      ]
    },
    {
      "cell_type": "markdown",
      "source": [
        "i. A count plot can be thought of as a histogram across a categorical, instead of quantitative, variable. The basic API and options are identical to those for barplot() , so you can compare counts across nested variables.\n",
        "\n",
        "ii. In this graph we found Number of per Seasons in each TV show count.first seasons are 1608 and second seasons are 378 and third seasons are 183 number of counting are there."
      ],
      "metadata": {
        "id": "Vf4Ovq0WNo30"
      }
    },
    {
      "cell_type": "code",
      "source": [
        "# Movie statistics\n",
        "df[df['type']== 'Movie'].duration.describe()"
      ],
      "metadata": {
        "colab": {
          "base_uri": "https://localhost:8080/"
        },
        "id": "uKtAy2Ya8Q5X",
        "outputId": "e431b2a0-9dab-4551-9972-d5d47833a8fd"
      },
      "execution_count": 53,
      "outputs": [
        {
          "output_type": "execute_result",
          "data": {
            "text/plain": [
              "count    5377.000000\n",
              "mean       99.307978\n",
              "std        28.530881\n",
              "min         3.000000\n",
              "25%        86.000000\n",
              "50%        98.000000\n",
              "75%       114.000000\n",
              "max       312.000000\n",
              "Name: duration, dtype: float64"
            ]
          },
          "metadata": {},
          "execution_count": 53
        }
      ]
    },
    {
      "cell_type": "markdown",
      "source": [
        "# **Chart-15**"
      ],
      "metadata": {
        "id": "m5s1UgqReJ-M"
      }
    },
    {
      "cell_type": "markdown",
      "source": [
        "# **Genre separate TV_Shows**"
      ],
      "metadata": {
        "id": "5L-ZH2SN9K5u"
      }
    },
    {
      "cell_type": "code",
      "source": [
        "# Top 10 genre for movies\n",
        "plt.figure(figsize=(10,5))\n",
        "df[df['type']=='TV Show'].listed_in.value_counts().nlargest(10).plot(kind='bar')\n",
        "plt.title('Top 10 genres for movies')"
      ],
      "metadata": {
        "colab": {
          "base_uri": "https://localhost:8080/",
          "height": 458
        },
        "id": "MFb8uhA48v_K",
        "outputId": "c3045df1-8742-45f6-f7c3-1113cec7f5cc"
      },
      "execution_count": 54,
      "outputs": [
        {
          "output_type": "execute_result",
          "data": {
            "text/plain": [
              "Text(0.5, 1.0, 'Top 10 genres for movies')"
            ]
          },
          "metadata": {},
          "execution_count": 54
        },
        {
          "output_type": "display_data",
          "data": {
            "text/plain": [
              "<Figure size 720x360 with 1 Axes>"
            ],
            "image/png": "[encoded data removed]"
          },
          "metadata": {
            "needs_background": "light"
          }
        }
      ]
    },
    {
      "cell_type": "markdown",
      "source": [
        "i. A bar plot shows catergorical data as rectangular bars with the height of bars proportional to the value they represent. It is often used to compare between values of different categories in the data.\n",
        "\n",
        "ii. In this graph we found Top 10 genres for movies. International TV Shows are the highest number of genres type of TV shows and Crime TVShows and Kid's Shows are approximately same for generes type of TV shows."
      ],
      "metadata": {
        "id": "v9fwhjj9KH-F"
      }
    },
    {
      "cell_type": "markdown",
      "source": [
        "# **Chart-16**"
      ],
      "metadata": {
        "id": "Bsyy6BUkeTnq"
      }
    },
    {
      "cell_type": "code",
      "source": [
        "# Top actors for movies\n",
        "plt.figure(figsize=(10,5))\n",
        "df[~(df['cast']=='Unknown') & (df['type']=='Movie')].cast.value_counts().nlargest(10).plot(kind='barh')\n",
        "plt.title('Actors who have appeared in highest number of movies')"
      ],
      "metadata": {
        "colab": {
          "base_uri": "https://localhost:8080/",
          "height": 334
        },
        "id": "5BzwEXD59xGA",
        "outputId": "2abeef02-722a-4dd5-d3c4-b82c08b97e35"
      },
      "execution_count": 55,
      "outputs": [
        {
          "output_type": "execute_result",
          "data": {
            "text/plain": [
              "Text(0.5, 1.0, 'Actors who have appeared in highest number of movies')"
            ]
          },
          "metadata": {},
          "execution_count": 55
        },
        {
          "output_type": "display_data",
          "data": {
            "text/plain": [
              "<Figure size 720x360 with 1 Axes>"
            ],
            "image/png": "[encoded data removed]"
          },
          "metadata": {
            "needs_background": "light"
          }
        }
      ]
    },
    {
      "cell_type": "markdown",
      "source": [
        "i. A horizontal bar plot is a plot that presents quantitative data with rectangular bars with lengths proportional to the values that they represent. A bar plot shows comparisons among discrete categories. One axis of the plot shows the specific categories being compared, and the other axis represents a measured value.\n",
        "\n",
        "ii. In this graph we found Top actors for movies. Top one actor in movies are Samuel West and second highest actor are jeff Dunham and third highest actor of movies are Craig Sechler and Kevin Hart."
      ],
      "metadata": {
        "id": "-cyrAVgFJuuH"
      }
    },
    {
      "cell_type": "markdown",
      "source": [
        "# **Chart-17**"
      ],
      "metadata": {
        "id": "4VESz6f3eYIb"
      }
    },
    {
      "cell_type": "code",
      "source": [
        "# Top actors for TV shows\n",
        "plt.figure(figsize=(10,5))\n",
        "df[~(df['cast']=='Unknown') & (df['type']=='TV Show')].cast.value_counts().nlargest(10).plot(kind='barh')\n",
        "plt.title('Actors who have appeared in highest number of TV shows')"
      ],
      "metadata": {
        "colab": {
          "base_uri": "https://localhost:8080/",
          "height": 353
        },
        "id": "uxZRWvWH-pKV",
        "outputId": "fe83ddfd-db79-4ec4-f603-a6c0780f4da4"
      },
      "execution_count": 56,
      "outputs": [
        {
          "output_type": "execute_result",
          "data": {
            "text/plain": [
              "Text(0.5, 1.0, 'Actors who have appeared in highest number of TV shows')"
            ]
          },
          "metadata": {},
          "execution_count": 56
        },
        {
          "output_type": "display_data",
          "data": {
            "text/plain": [
              "<Figure size 720x360 with 1 Axes>"
            ],
            "image/png": "[encoded data removed]"
          },
          "metadata": {
            "needs_background": "light"
          }
        }
      ]
    },
    {
      "cell_type": "markdown",
      "source": [
        "i. A horizontal bar plot is a plot that presents quantitative data with rectangular bars with lengths proportional to the values that they represent. A bar plot shows comparisons among discrete categories. One axis of the plot shows the specific categories being compared, and the other axis represents a measured value.\n",
        "\n",
        "ii. In this graph we found Actors who have appeared highest number of TV shows. Top one actor of TV Shows is David Attenborough and second highest actor in TV shows  many are there like Michela Luci,Jamie Watson,Anna Claire Bartlam,Dante Zee and Eric peterson."
      ],
      "metadata": {
        "id": "70Ix8TO_Jp4D"
      }
    },
    {
      "cell_type": "markdown",
      "source": [
        "# **Chart-18**"
      ],
      "metadata": {
        "id": "70Sr8_wSQ8yP"
      }
    },
    {
      "cell_type": "code",
      "source": [
        "# Building a wordcloud for the movie descriptions\n",
        "comment_words = ''\n",
        "stopwords = set(STOPWORDS)\n",
        "\n",
        "# iterate through the csv file\n",
        "for val in df.description.values:\n",
        "    \n",
        "    # typecaste each val to string\n",
        "    val = str(val)\n",
        "\n",
        "    # split the value\n",
        "    tokens = val.split()\n",
        "    \n",
        "    # Converts each token into lowercase\n",
        "    for i in range(len(tokens)):\n",
        "        tokens[i] = tokens[i].lower()\n",
        "    \n",
        "    comment_words += \" \".join(tokens)+\" \"\n",
        "\n",
        "wordcloud = WordCloud(width = 700, height = 700,\n",
        "                background_color ='white',\n",
        "                stopwords = stopwords,\n",
        "                min_font_size = 10).generate(comment_words)\n",
        "\n",
        "\n",
        "# plot the WordCloud image                      \n",
        "plt.figure(figsize = (10,5), facecolor = None)\n",
        "plt.imshow(wordcloud)\n",
        "plt.axis(\"off\")\n",
        "plt.tight_layout(pad = 0)"
      ],
      "metadata": {
        "colab": {
          "base_uri": "https://localhost:8080/",
          "height": 391
        },
        "id": "Tmpub4HzFGjf",
        "outputId": "f1ff501c-056e-4a28-a209-fa2b35dc6610"
      },
      "execution_count": 57,
      "outputs": [
        {
          "output_type": "display_data",
          "data": {
            "text/plain": [
              "<Figure size 720x360 with 1 Axes>"
            ],
            "image/png": "[encoded data removed]"
          },
          "metadata": {
            "needs_background": "light"
          }
        }
      ]
    },
    {
      "cell_type": "markdown",
      "source": [
        "i. Word clouds or tag clouds are graphical representations of word frequency that give greater prominence to words that appear more frequently in a source text. The larger the word in the visual the more common the word was in the document(s).\n",
        "\n",
        "ii. In this graph we found life,family,love,friend,world,new,find words are many time uses."
      ],
      "metadata": {
        "id": "VTqZQA4xJQLG"
      }
    },
    {
      "cell_type": "markdown",
      "source": [
        "# **We have successfully completed your EDA Capstone Project !!!**"
      ],
      "metadata": {
        "id": "-OCOX44uFMIm"
      }
    },
    {
      "cell_type": "markdown",
      "source": [
        "# **Data Processing**"
      ],
      "metadata": {
        "id": "yZI82VO8LUUI"
      }
    },
    {
      "cell_type": "code",
      "source": [
        "# Using the model_df dataset for clustering since\n",
        "# it does not require handling missing values\n",
        "Dataset = model_df.copy()"
      ],
      "metadata": {
        "id": "-Ld5jY8hLR4c"
      },
      "execution_count": 58,
      "outputs": []
    },
    {
      "cell_type": "code",
      "source": [
        "Dataset.fillna('',inplace=True)"
      ],
      "metadata": {
        "id": "xmpdHHlHLR6p"
      },
      "execution_count": 59,
      "outputs": []
    },
    {
      "cell_type": "code",
      "source": [
        "# Combining all the clustering attributes into a single column\n",
        "\n",
        "Dataset['clustering'] = (Dataset['director'] + ' ' + \n",
        "                                Dataset['cast'] +' ' + \n",
        "                                Dataset['country'] +' ' + \n",
        "                                Dataset['listed_in'] +' ' + \n",
        "                                Dataset['description'])"
      ],
      "metadata": {
        "id": "6ptcDFl5LR9A"
      },
      "execution_count": 60,
      "outputs": []
    },
    {
      "cell_type": "code",
      "source": [
        "# Select the 100 number of clusters for the dataset \n",
        "Dataset['clustering'][100]"
      ],
      "metadata": {
        "colab": {
          "base_uri": "https://localhost:8080/",
          "height": 70
        },
        "id": "Mg6P5Yn2LR_O",
        "outputId": "a17ae896-6bbf-40cc-eed0-886766b7a491"
      },
      "execution_count": 61,
      "outputs": [
        {
          "output_type": "execute_result",
          "data": {
            "text/plain": [
              "\"Rajkumar Hirani Aamir Khan, Kareena Kapoor, Madhavan, Sharman Joshi, Omi Vaidya, Boman Irani, Mona Singh, Javed Jaffrey India Comedies, Dramas, International Movies While attending one of India's premier colleges, three miserable engineering students and best friends struggle to beat the school's draconian system.\""
            ],
            "application/vnd.google.colaboratory.intrinsic+json": {
              "type": "string"
            }
          },
          "metadata": {},
          "execution_count": 61
        }
      ]
    },
    {
      "cell_type": "markdown",
      "source": [
        "# **Removing Punctuation**"
      ],
      "metadata": {
        "id": "l0iAJ0fQMJ-S"
      }
    },
    {
      "cell_type": "code",
      "source": [
        "# function to remove punctuations\n",
        "def remove_punctuation(text):\n",
        "    '''a function for removing punctuation'''\n",
        "    translator = str.maketrans('', '', string.punctuation)\n",
        "    # return the text stripped of punctuation marks\n",
        "    return text.translate(translator)"
      ],
      "metadata": {
        "id": "7Rucj0hfLSBj"
      },
      "execution_count": 62,
      "outputs": []
    },
    {
      "cell_type": "code",
      "source": [
        "# Removing punctuation marks\n",
        "Dataset['clustering'] = Dataset['clustering'].apply(remove_punctuation)"
      ],
      "metadata": {
        "id": "WWuThptOLSE5"
      },
      "execution_count": 63,
      "outputs": []
    },
    {
      "cell_type": "code",
      "source": [
        "# Select the 100 number of clusters for the dataset \n",
        "Dataset['clustering'][100]"
      ],
      "metadata": {
        "colab": {
          "base_uri": "https://localhost:8080/",
          "height": 70
        },
        "id": "3imM9rx0LSGe",
        "outputId": "3da40317-7c56-472f-dfb2-9b3f6cfff9e9"
      },
      "execution_count": 64,
      "outputs": [
        {
          "output_type": "execute_result",
          "data": {
            "text/plain": [
              "'Rajkumar Hirani Aamir Khan Kareena Kapoor Madhavan Sharman Joshi Omi Vaidya Boman Irani Mona Singh Javed Jaffrey India Comedies Dramas International Movies While attending one of Indias premier colleges three miserable engineering students and best friends struggle to beat the schools draconian system'"
            ],
            "application/vnd.google.colaboratory.intrinsic+json": {
              "type": "string"
            }
          },
          "metadata": {},
          "execution_count": 64
        }
      ]
    },
    {
      "cell_type": "markdown",
      "source": [
        "# **Removing non-ASCII characters:**"
      ],
      "metadata": {
        "id": "5Q75bg4tOWos"
      }
    },
    {
      "cell_type": "code",
      "source": [
        "# function to remove non-ascii characters\n",
        "\n",
        "def remove_non_ascii(words):\n",
        "    \"\"\"Function to remove non-ASCII characters\"\"\"\n",
        "    new_words = []\n",
        "    for word in words:\n",
        "        new_word = unicodedata.normalize('NFKD', word).encode('ascii', 'ignore').decode('utf-8', 'ignore')\n",
        "        new_words.append(new_word)\n",
        "    return new_words"
      ],
      "metadata": {
        "id": "V1yuaRVhN8yf"
      },
      "execution_count": 65,
      "outputs": []
    },
    {
      "cell_type": "code",
      "source": [
        "# remove non-ascii characters\n",
        "Dataset['clustering'] = remove_non_ascii(Dataset['clustering'])"
      ],
      "metadata": {
        "id": "26Z-dCk2OBkl"
      },
      "execution_count": 66,
      "outputs": []
    },
    {
      "cell_type": "code",
      "source": [
        "# Select the 100 number of clusters for the dataset \n",
        "Dataset['clustering'][100]"
      ],
      "metadata": {
        "colab": {
          "base_uri": "https://localhost:8080/",
          "height": 70
        },
        "id": "o6t5meJGOK68",
        "outputId": "8de206ad-396e-4595-e467-700813ba54e6"
      },
      "execution_count": 67,
      "outputs": [
        {
          "output_type": "execute_result",
          "data": {
            "text/plain": [
              "'Rajkumar Hirani Aamir Khan Kareena Kapoor Madhavan Sharman Joshi Omi Vaidya Boman Irani Mona Singh Javed Jaffrey India Comedies Dramas International Movies While attending one of Indias premier colleges three miserable engineering students and best friends struggle to beat the schools draconian system'"
            ],
            "application/vnd.google.colaboratory.intrinsic+json": {
              "type": "string"
            }
          },
          "metadata": {},
          "execution_count": 67
        }
      ]
    },
    {
      "cell_type": "markdown",
      "source": [
        "# **Removing stopwords**"
      ],
      "metadata": {
        "id": "9_CmWgc6NcHf"
      }
    },
    {
      "cell_type": "code",
      "source": [
        "# extracting the stopwords from nltk library\n",
        "import nltk\n",
        "from nltk.corpus import stopwords\n",
        "sentences = stopwords.words('english')\n",
        "# displaying the stopwords\n",
        "np.array(sentences)"
      ],
      "metadata": {
        "colab": {
          "base_uri": "https://localhost:8080/"
        },
        "id": "7zZyy2NtLSId",
        "outputId": "dd35146d-2b90-4910-f697-60b3c92b7e97"
      },
      "execution_count": 68,
      "outputs": [
        {
          "output_type": "execute_result",
          "data": {
            "text/plain": [
              "array(['i', 'me', 'my', 'myself', 'we', 'our', 'ours', 'ourselves', 'you',\n",
              "       \"you're\", \"you've\", \"you'll\", \"you'd\", 'your', 'yours', 'yourself',\n",
              "       'yourselves', 'he', 'him', 'his', 'himself', 'she', \"she's\", 'her',\n",
              "       'hers', 'herself', 'it', \"it's\", 'its', 'itself', 'they', 'them',\n",
              "       'their', 'theirs', 'themselves', 'what', 'which', 'who', 'whom',\n",
              "       'this', 'that', \"that'll\", 'these', 'those', 'am', 'is', 'are',\n",
              "       'was', 'were', 'be', 'been', 'being', 'have', 'has', 'had',\n",
              "       'having', 'do', 'does', 'did', 'doing', 'a', 'an', 'the', 'and',\n",
              "       'but', 'if', 'or', 'because', 'as', 'until', 'while', 'of', 'at',\n",
              "       'by', 'for', 'with', 'about', 'against', 'between', 'into',\n",
              "       'through', 'during', 'before', 'after', 'above', 'below', 'to',\n",
              "       'from', 'up', 'down', 'in', 'out', 'on', 'off', 'over', 'under',\n",
              "       'again', 'further', 'then', 'once', 'here', 'there', 'when',\n",
              "       'where', 'why', 'how', 'all', 'any', 'both', 'each', 'few', 'more',\n",
              "       'most', 'other', 'some', 'such', 'no', 'nor', 'not', 'only', 'own',\n",
              "       'same', 'so', 'than', 'too', 'very', 's', 't', 'can', 'will',\n",
              "       'just', 'don', \"don't\", 'should', \"should've\", 'now', 'd', 'll',\n",
              "       'm', 'o', 're', 've', 'y', 'ain', 'aren', \"aren't\", 'couldn',\n",
              "       \"couldn't\", 'didn', \"didn't\", 'doesn', \"doesn't\", 'hadn', \"hadn't\",\n",
              "       'hasn', \"hasn't\", 'haven', \"haven't\", 'isn', \"isn't\", 'ma',\n",
              "       'mightn', \"mightn't\", 'mustn', \"mustn't\", 'needn', \"needn't\",\n",
              "       'shan', \"shan't\", 'shouldn', \"shouldn't\", 'wasn', \"wasn't\",\n",
              "       'weren', \"weren't\", 'won', \"won't\", 'wouldn', \"wouldn't\"],\n",
              "      dtype='<U10')"
            ]
          },
          "metadata": {},
          "execution_count": 68
        }
      ]
    },
    {
      "cell_type": "code",
      "source": [
        "# function to remove stop words\n",
        "def remove_stopwords(text):\n",
        "    '''a function for removing the stopword'''\n",
        "    # removing the stop words and lowercasing the selected words\n",
        "    text = [word.lower() for word in text.split() if word.lower() not in sentences]\n",
        "    # joining the list of words with space separator\n",
        "    return \" \".join(text)"
      ],
      "metadata": {
        "id": "Ovds9f1lLSLI"
      },
      "execution_count": 69,
      "outputs": []
    },
    {
      "cell_type": "code",
      "source": [
        "# Removing stop words\n",
        "Dataset['clustering'] = Dataset['clustering'].apply(remove_stopwords)"
      ],
      "metadata": {
        "id": "BnD7YsioLSOw"
      },
      "execution_count": 70,
      "outputs": []
    },
    {
      "cell_type": "code",
      "source": [
        "# Select the 100 number of clusters for the dataset \n",
        "Dataset['clustering'][100]"
      ],
      "metadata": {
        "colab": {
          "base_uri": "https://localhost:8080/",
          "height": 52
        },
        "id": "q98tREo1LSUg",
        "outputId": "477cad31-87c4-43e1-a8a6-4cdb69e12490"
      },
      "execution_count": 71,
      "outputs": [
        {
          "output_type": "execute_result",
          "data": {
            "text/plain": [
              "'rajkumar hirani aamir khan kareena kapoor madhavan sharman joshi omi vaidya boman irani mona singh javed jaffrey india comedies dramas international movies attending one indias premier colleges three miserable engineering students best friends struggle beat schools draconian system'"
            ],
            "application/vnd.google.colaboratory.intrinsic+json": {
              "type": "string"
            }
          },
          "metadata": {},
          "execution_count": 71
        }
      ]
    },
    {
      "cell_type": "markdown",
      "source": [
        "# **Removing  Lemmatization:**"
      ],
      "metadata": {
        "id": "JEXmg7ldQPg6"
      }
    },
    {
      "cell_type": "code",
      "source": [
        "# function to lemmatize the corpus\n",
        "def lemmatize_verbs(words):\n",
        "    \"\"\"Lemmatize verbs in list of tokenized words\"\"\"\n",
        "    lemmatizer = WordNetLemmatizer()\n",
        "    lemmas = []\n",
        "    for word in words:\n",
        "        lemma = lemmatizer.lemmatize(word, pos='v')\n",
        "        lemmas.append(lemma)\n",
        "    return lemmas"
      ],
      "metadata": {
        "id": "KfI2be_bS6lC"
      },
      "execution_count": 72,
      "outputs": []
    },
    {
      "cell_type": "code",
      "source": [
        "# Lemmatization\n",
        "Dataset['clustering'] = lemmatize_verbs(Dataset['clustering'])"
      ],
      "metadata": {
        "id": "kvaqKyPXUB3N"
      },
      "execution_count": 73,
      "outputs": []
    },
    {
      "cell_type": "code",
      "source": [
        "# Select the 100 number of clusters for the dataset \n",
        "print(Dataset['clustering'][100])"
      ],
      "metadata": {
        "colab": {
          "base_uri": "https://localhost:8080/"
        },
        "id": "AzsTr1wPLSd6",
        "outputId": "5d937f42-2bfc-4b0f-efc0-89d7c7044a97"
      },
      "execution_count": 74,
      "outputs": [
        {
          "output_type": "stream",
          "name": "stdout",
          "text": [
            "rajkumar hirani aamir khan kareena kapoor madhavan sharman joshi omi vaidya boman irani mona singh javed jaffrey india comedies dramas international movies attending one indias premier colleges three miserable engineering students best friends struggle beat schools draconian system\n"
          ]
        }
      ]
    },
    {
      "cell_type": "markdown",
      "source": [
        "# **Tokenization:**"
      ],
      "metadata": {
        "id": "bg0YhlQPUVvp"
      }
    },
    {
      "cell_type": "code",
      "source": [
        "# Create a reference variable for Class TweetTokenizer\n",
        "tokenizer = TweetTokenizer()"
      ],
      "metadata": {
        "id": "mwk-IORGLSiG"
      },
      "execution_count": 75,
      "outputs": []
    },
    {
      "cell_type": "code",
      "source": [
        "# Create text column based on dataset\n",
        "Dataset['clustering'] = Dataset['clustering'].apply(lambda x: tokenizer.tokenize(x))"
      ],
      "metadata": {
        "id": "kCKY9nVNLSkF"
      },
      "execution_count": 76,
      "outputs": []
    },
    {
      "cell_type": "code",
      "source": [
        "# Select the 100 number of Tokenization for the dataset \n",
        "print(Dataset['clustering'][100])"
      ],
      "metadata": {
        "colab": {
          "base_uri": "https://localhost:8080/"
        },
        "id": "MrA5rBRULSlt",
        "outputId": "47641c9e-a98f-426e-98b1-fecdeffe8eb0"
      },
      "execution_count": 77,
      "outputs": [
        {
          "output_type": "stream",
          "name": "stdout",
          "text": [
            "['rajkumar', 'hirani', 'aamir', 'khan', 'kareena', 'kapoor', 'madhavan', 'sharman', 'joshi', 'omi', 'vaidya', 'boman', 'irani', 'mona', 'singh', 'javed', 'jaffrey', 'india', 'comedies', 'dramas', 'international', 'movies', 'attending', 'one', 'indias', 'premier', 'colleges', 'three', 'miserable', 'engineering', 'students', 'best', 'friends', 'struggle', 'beat', 'schools', 'draconian', 'system']\n"
          ]
        }
      ]
    },
    {
      "cell_type": "markdown",
      "source": [
        "# **Vectorization:**"
      ],
      "metadata": {
        "id": "AFkc19TJU3u4"
      }
    },
    {
      "cell_type": "code",
      "source": [
        "# clustering tokens saved in a variable\n",
        "clustering_vectorization = Dataset['clustering']"
      ],
      "metadata": {
        "id": "8B2AzMZzUoGG"
      },
      "execution_count": 78,
      "outputs": []
    },
    {
      "cell_type": "code",
      "source": [
        "# Tokenization\n",
        "def tokenizer(text):\n",
        "  return text\n",
        "\n",
        "# Using TFIDF vectorizer to vectorize the corpus \n",
        "# max features = 20000 to prevent system from crashing\n",
        "tfidf = TfidfVectorizer(tokenizer=tokenizer, stop_words='english', lowercase=False,max_features = 20000)    \n",
        "x = tfidf.fit_transform(clustering_vectorization)"
      ],
      "metadata": {
        "id": "UX_xNVVmUoH3"
      },
      "execution_count": 79,
      "outputs": []
    },
    {
      "cell_type": "code",
      "source": [
        "# Dataset Rows & Columns count\n",
        "x.shape"
      ],
      "metadata": {
        "colab": {
          "base_uri": "https://localhost:8080/"
        },
        "id": "uEl5Y_mOUoKG",
        "outputId": "c860ab06-b3a8-4da6-cc44-96a52717f051"
      },
      "execution_count": 80,
      "outputs": [
        {
          "output_type": "execute_result",
          "data": {
            "text/plain": [
              "(7787, 20000)"
            ]
          },
          "metadata": {},
          "execution_count": 80
        }
      ]
    },
    {
      "cell_type": "code",
      "source": [
        "# convert X into array form for clustering\n",
        "X = x.toarray()"
      ],
      "metadata": {
        "id": "bbSPYlyMUoMZ"
      },
      "execution_count": 81,
      "outputs": []
    },
    {
      "cell_type": "code",
      "source": [
        "# Check the matrix\n",
        "X"
      ],
      "metadata": {
        "colab": {
          "base_uri": "https://localhost:8080/"
        },
        "id": "fdV1pu7UUoQj",
        "outputId": "5d0d6d1a-7522-40fd-9a86-66666d14d5ee"
      },
      "execution_count": 82,
      "outputs": [
        {
          "output_type": "execute_result",
          "data": {
            "text/plain": [
              "array([[0., 0., 0., ..., 0., 0., 0.],\n",
              "       [0., 0., 0., ..., 0., 0., 0.],\n",
              "       [0., 0., 0., ..., 0., 0., 0.],\n",
              "       ...,\n",
              "       [0., 0., 0., ..., 0., 0., 0.],\n",
              "       [0., 0., 0., ..., 0., 0., 0.],\n",
              "       [0., 0., 0., ..., 0., 0., 0.]])"
            ]
          },
          "metadata": {},
          "execution_count": 82
        }
      ]
    },
    {
      "cell_type": "markdown",
      "source": [
        "#**Reduceing Diemensionality using PCA**"
      ],
      "metadata": {
        "id": "1yg2924aW-Un"
      }
    },
    {
      "cell_type": "code",
      "source": [
        "# using PCA to reduce dimensionality\n",
        "pca = PCA(random_state=40)\n",
        "pca.fit(X)"
      ],
      "metadata": {
        "id": "N0WUGkvaXJBZ",
        "colab": {
          "base_uri": "https://localhost:8080/"
        },
        "outputId": "5a0e41b8-391e-4321-d994-dac2d2b4dbae"
      },
      "execution_count": 83,
      "outputs": [
        {
          "output_type": "execute_result",
          "data": {
            "text/plain": [
              "PCA(random_state=40)"
            ]
          },
          "metadata": {},
          "execution_count": 83
        }
      ]
    },
    {
      "cell_type": "code",
      "source": [
        "# Explained variance for different number of components\n",
        "plt.figure(figsize=(10,5))\n",
        "plt.plot(np.cumsum(pca.explained_variance_ratio_))\n",
        "plt.title('PCA - Cumulative explained variance vs number of components')\n",
        "plt.xlabel('number of components')\n",
        "plt.ylabel('cumulative explained variance')"
      ],
      "metadata": {
        "id": "dhA6CK_sXJNE",
        "colab": {
          "base_uri": "https://localhost:8080/",
          "height": 367
        },
        "outputId": "b48b37b0-0761-435c-840b-c9f366addb5f"
      },
      "execution_count": 84,
      "outputs": [
        {
          "output_type": "execute_result",
          "data": {
            "text/plain": [
              "Text(0, 0.5, 'cumulative explained variance')"
            ]
          },
          "metadata": {},
          "execution_count": 84
        },
        {
          "output_type": "display_data",
          "data": {
            "text/plain": [
              "<Figure size 720x360 with 1 Axes>"
            ],
            "image/png": "[encoded data removed]"
          },
          "metadata": {
            "needs_background": "light"
          }
        }
      ]
    },
    {
      "cell_type": "code",
      "source": [
        "# reducing the dimensions to 4000 using pca\n",
        "pca = PCA(n_components=4000,random_state=40)\n",
        "pca.fit(X)"
      ],
      "metadata": {
        "id": "LJWALIpjXJPH",
        "colab": {
          "base_uri": "https://localhost:8080/"
        },
        "outputId": "70d22aa6-ed4b-427d-c1fd-0f237336d3a1"
      },
      "execution_count": 85,
      "outputs": [
        {
          "output_type": "execute_result",
          "data": {
            "text/plain": [
              "PCA(n_components=4000, random_state=40)"
            ]
          },
          "metadata": {},
          "execution_count": 85
        }
      ]
    },
    {
      "cell_type": "code",
      "source": [
        "# transformed features\n",
        "x_pca = pca.transform(X)"
      ],
      "metadata": {
        "id": "k3h53eIKXJQ1"
      },
      "execution_count": 86,
      "outputs": []
    },
    {
      "cell_type": "code",
      "source": [
        "# shape of transformed vectors\n",
        "x_pca.shape"
      ],
      "metadata": {
        "id": "5n3eFNlbXJTe",
        "colab": {
          "base_uri": "https://localhost:8080/"
        },
        "outputId": "4271c43a-3594-4d7f-8241-aaa06d1cb51a"
      },
      "execution_count": 87,
      "outputs": [
        {
          "output_type": "execute_result",
          "data": {
            "text/plain": [
              "(7787, 4000)"
            ]
          },
          "metadata": {},
          "execution_count": 87
        }
      ]
    },
    {
      "cell_type": "markdown",
      "source": [
        "# **Now start wih Unservised Machine Learning clustering algorithms**"
      ],
      "metadata": {
        "id": "gBoJKMrpV1k6"
      }
    },
    {
      "cell_type": "markdown",
      "source": [
        "##**1.K-Means Clustering:**"
      ],
      "metadata": {
        "id": "MDB9Dye8WiSb"
      }
    },
    {
      "cell_type": "code",
      "source": [
        "# Elbow method to find the optimal value of k\n",
        "wcss=[]\n",
        "for i in range(1,31):\n",
        "  kmeans = KMeans(n_clusters=i,init='k-means++',random_state=33)\n",
        "  kmeans.fit(x_pca)\n",
        "  wcss_iter = kmeans.inertia_\n",
        "  wcss.append(wcss_iter)\n",
        "\n",
        "number_clusters = range(1,31)\n",
        "plt.figure(figsize=(10,5))\n",
        "plt.plot(number_clusters,wcss)\n",
        "plt.title('The Elbow Method - KMeans clustering')\n",
        "plt.xlabel('Number of clusters')\n",
        "plt.ylabel('WCSS')"
      ],
      "metadata": {
        "id": "x73m_NTKUoSH",
        "colab": {
          "base_uri": "https://localhost:8080/",
          "height": 367
        },
        "outputId": "338aa29f-ed85-43bc-9308-c070a3bee34a"
      },
      "execution_count": 88,
      "outputs": [
        {
          "output_type": "execute_result",
          "data": {
            "text/plain": [
              "Text(0, 0.5, 'WCSS')"
            ]
          },
          "metadata": {},
          "execution_count": 88
        },
        {
          "output_type": "display_data",
          "data": {
            "text/plain": [
              "<Figure size 720x360 with 1 Axes>"
            ],
            "image/png": "[encoded data removed]"
          },
          "metadata": {
            "needs_background": "light"
          }
        }
      ]
    },
    {
      "cell_type": "code",
      "source": [
        "# Plotting Silhouette score for different number of clusters\n",
        "range_n_clusters = range(2,31)\n",
        "silhouette_avg = []\n",
        "for num_clusters in range_n_clusters:\n",
        "  # initialize kmeans\n",
        "  kmeans = KMeans(n_clusters=num_clusters,init='k-means++',random_state=33)\n",
        "  kmeans.fit(x_pca)\n",
        "  cluster_labels = kmeans.labels_\n",
        " \n",
        "  # silhouette score\n",
        "  silhouette_avg.append(silhouette_score(x_pca, cluster_labels))\n",
        "\n",
        "plt.figure(figsize=(10,5))\n",
        "plt.plot(range_n_clusters,silhouette_avg)\n",
        "plt.xlabel('Values of K') \n",
        "plt.ylabel('Silhouette score')\n",
        "plt.title('Silhouette analysis For Optimal k - KMeans clustering')\n",
        "plt.show()"
      ],
      "metadata": {
        "id": "aUIcGF8xUoXJ",
        "colab": {
          "base_uri": "https://localhost:8080/",
          "height": 350
        },
        "outputId": "2de4f551-8b24-4514-e1f4-ea91a6ac1252"
      },
      "execution_count": 89,
      "outputs": [
        {
          "output_type": "display_data",
          "data": {
            "text/plain": [
              "<Figure size 720x360 with 1 Axes>"
            ],
            "image/png": "[encoded data removed]"
          },
          "metadata": {
            "needs_background": "light"
          }
        }
      ]
    },
    {
      "cell_type": "code",
      "source": [
        "# Clustering the data into 19 clusters\n",
        "kmeans = KMeans(n_clusters=6,init='k-means++',random_state=40)\n",
        "kmeans.fit(x_pca)"
      ],
      "metadata": {
        "id": "1Y6ivMBIUoZA",
        "colab": {
          "base_uri": "https://localhost:8080/"
        },
        "outputId": "ab276267-00e6-405b-f6f1-4a6cb58d6c3a"
      },
      "execution_count": 90,
      "outputs": [
        {
          "output_type": "execute_result",
          "data": {
            "text/plain": [
              "KMeans(n_clusters=6, random_state=40)"
            ]
          },
          "metadata": {},
          "execution_count": 90
        }
      ]
    },
    {
      "cell_type": "code",
      "source": [
        "# Adding a kmeans cluster number attribute\n",
        "Dataset['kmeans_cluster'] = kmeans.labels_"
      ],
      "metadata": {
        "id": "GDJa6nBlUoab"
      },
      "execution_count": 91,
      "outputs": []
    },
    {
      "cell_type": "code",
      "source": [
        "# Evaluation metrics - distortion, Silhouette score\n",
        "kmeans_distortion = kmeans.inertia_\n",
        "kmeans_silhouette_score = silhouette_score(x_pca, kmeans.labels_)\n",
        "\n",
        "print((kmeans_distortion,kmeans_silhouette_score))"
      ],
      "metadata": {
        "id": "Du6SVrLXhbL5",
        "colab": {
          "base_uri": "https://localhost:8080/"
        },
        "outputId": "b279fe1e-3f87-4859-9fa9-c30ef10fb89b"
      },
      "execution_count": 92,
      "outputs": [
        {
          "output_type": "stream",
          "name": "stdout",
          "text": [
            "(6375.856847829353, 0.008845692725243342)\n"
          ]
        }
      ]
    },
    {
      "cell_type": "code",
      "source": [
        "# Number of movies and tv shows in each cluster\n",
        "plt.figure(figsize=(10,5))\n",
        "q = sns.countplot(x='kmeans_cluster',data=Dataset, hue='type')\n",
        "plt.title('Number of movies and TV shows in each cluster - Kmeans Clustering')\n",
        "for i in q.patches:\n",
        "  q.annotate(format(i.get_height(), '.0f'), (i.get_x() + i.get_width() / 2., i.get_height()), ha = 'center', va = 'center', xytext = (0, 10), textcoords = 'offset points')"
      ],
      "metadata": {
        "id": "5nRU6Wd0UocR",
        "colab": {
          "base_uri": "https://localhost:8080/",
          "height": 351
        },
        "outputId": "16801a4b-703f-4371-b74f-b247e2281904"
      },
      "execution_count": 93,
      "outputs": [
        {
          "output_type": "display_data",
          "data": {
            "text/plain": [
              "<Figure size 720x360 with 1 Axes>"
            ],
            "image/png": "[encoded data removed]"
          },
          "metadata": {
            "needs_background": "light"
          }
        }
      ]
    },
    {
      "cell_type": "markdown",
      "source": [
        "##**2.Hierarchical clustering:**"
      ],
      "metadata": {
        "id": "cOLs5b5xa2py"
      }
    },
    {
      "cell_type": "code",
      "source": [
        "# Building a dendogram to decide on the number of clusters\n",
        "plt.figure(figsize=(16, 7))  \n",
        "dend = shc.dendrogram(shc.linkage(x_pca, method='ward'))\n",
        "plt.title('Dendrogram')\n",
        "plt.xlabel('Netflix Shows')\n",
        "plt.ylabel('Distance')\n",
        "plt.axhline(y= 3.8, color='r', linestyle='--')"
      ],
      "metadata": {
        "id": "8YS2VAVeUod4",
        "colab": {
          "base_uri": "https://localhost:8080/",
          "height": 478
        },
        "outputId": "fc3c1b04-3dc6-45a6-deae-819b5d6f2f1f"
      },
      "execution_count": 98,
      "outputs": [
        {
          "output_type": "execute_result",
          "data": {
            "text/plain": [
              "<matplotlib.lines.Line2D at 0x7fdd1360bee0>"
            ]
          },
          "metadata": {},
          "execution_count": 98
        },
        {
          "output_type": "display_data",
          "data": {
            "text/plain": [
              "<Figure size 1152x504 with 1 Axes>"
            ],
            "image/png": "[encoded data removed]"
          },
          "metadata": {
            "needs_background": "light"
          }
        }
      ]
    },
    {
      "cell_type": "code",
      "source": [
        "# Fitting hierarchical clustering model\n",
        "hierarchical = AgglomerativeClustering(n_clusters=12, affinity='euclidean', linkage='ward')  \n",
        "hierarchical.fit_predict(x_pca)"
      ],
      "metadata": {
        "id": "kyoLu2EoUofu",
        "colab": {
          "base_uri": "https://localhost:8080/"
        },
        "outputId": "c3c27cc1-5e34-468e-9bc7-74dc038ecd4e"
      },
      "execution_count": 99,
      "outputs": [
        {
          "output_type": "execute_result",
          "data": {
            "text/plain": [
              "array([ 0,  0,  1, ..., 10,  2, 10])"
            ]
          },
          "metadata": {},
          "execution_count": 99
        }
      ]
    },
    {
      "cell_type": "code",
      "source": [
        "# Adding a kmeans cluster number attribute\n",
        "Dataset['hierarchical_cluster'] = hierarchical.labels_"
      ],
      "metadata": {
        "id": "hjna1-VpUohm"
      },
      "execution_count": 100,
      "outputs": []
    },
    {
      "cell_type": "code",
      "source": [
        "# Number of movies and tv shows in each cluster\n",
        "plt.figure(figsize=(10,5))\n",
        "q = sns.countplot(x='hierarchical_cluster',data=Dataset, hue='type')\n",
        "plt.title('Number of movies and tv shows in each cluster - Hierarchical Clustering')\n",
        "for i in q.patches:\n",
        "  q.annotate(format(i.get_height(), '.0f'), (i.get_x() + i.get_width() / 2., i.get_height()), ha = 'center', va = 'center', xytext = (0, 10), textcoords = 'offset points')"
      ],
      "metadata": {
        "id": "W7IVId3rUojd",
        "colab": {
          "base_uri": "https://localhost:8080/",
          "height": 351
        },
        "outputId": "5dcd8f71-af69-4562-d280-bc8a31bee23b"
      },
      "execution_count": 101,
      "outputs": [
        {
          "output_type": "display_data",
          "data": {
            "text/plain": [
              "<Figure size 720x360 with 1 Axes>"
            ],
            "image/png": "[encoded data removed]"
          },
          "metadata": {
            "needs_background": "light"
          }
        }
      ]
    },
    {
      "cell_type": "markdown",
      "source": [
        "# **Using Content based recommender system**"
      ],
      "metadata": {
        "id": "6N0jTRlGcwCW"
      }
    },
    {
      "cell_type": "code",
      "source": [
        "# Changing the index of the df from show id to show title\n",
        "Dataset['show_id'] = Dataset.index"
      ],
      "metadata": {
        "id": "E37ENWVdc4oL"
      },
      "execution_count": 107,
      "outputs": []
    },
    {
      "cell_type": "code",
      "source": [
        "# converting tokens to string\n",
        "def convert(lst):\n",
        "  return ' '.join(lst)\n",
        "\n",
        "Dataset['clustering'] = Dataset['clustering'].apply(lambda x: convert(x))"
      ],
      "metadata": {
        "id": "YNLS59JUc4zg"
      },
      "execution_count": 108,
      "outputs": []
    },
    {
      "cell_type": "code",
      "source": [
        "# setting title of movies/Tv shows as index\n",
        "Dataset.set_index('title',inplace=True)"
      ],
      "metadata": {
        "id": "2G5hSuZmc42I"
      },
      "execution_count": 109,
      "outputs": []
    },
    {
      "cell_type": "code",
      "source": [
        "# Count vectorizer\n",
        "CV = CountVectorizer()\n",
        "converted_matrix = CV.fit_transform(Dataset['clustering'])"
      ],
      "metadata": {
        "id": "9CRJ-eUjc44y"
      },
      "execution_count": 110,
      "outputs": []
    },
    {
      "cell_type": "code",
      "source": [
        "# Cosine similarity\n",
        "cosine_similarity = cosine_similarity(converted_matrix)"
      ],
      "metadata": {
        "id": "Svy6iTZKc47Q"
      },
      "execution_count": 111,
      "outputs": []
    },
    {
      "cell_type": "code",
      "source": [
        "# Dataset Rows & Columns count\n",
        "cosine_similarity.shape"
      ],
      "metadata": {
        "id": "kAjo-0j_c49p",
        "colab": {
          "base_uri": "https://localhost:8080/"
        },
        "outputId": "0969cb05-9a16-4695-b675-f1ead0872608"
      },
      "execution_count": 112,
      "outputs": [
        {
          "output_type": "execute_result",
          "data": {
            "text/plain": [
              "(7787, 7787)"
            ]
          },
          "metadata": {},
          "execution_count": 112
        }
      ]
    },
    {
      "cell_type": "code",
      "source": [
        "# Developing a function to get 10 recommendations for a show\n",
        "indices = pd.Series(Dataset.index)\n",
        "\n",
        "def recommendation_df(title, cosine_sim = cosine_similarity):\n",
        "  try:\n",
        "    recommend_content = []   \n",
        "    idx = indices[indices == title].index[0]\n",
        "    series = pd.Series(cosine_sim[idx]).sort_values(ascending = False)\n",
        "    top10 = list(series.iloc[1:11].index)\n",
        "    # list with the titles of the best 10 matching movies\n",
        "    for i in top10:\n",
        "      recommend_content.append(list(Dataset.index)[i])\n",
        "    print(\"If you liked '\"+title+\"', you may also enjoy:\\n\")\n",
        "    return recommend_content\n",
        "\n",
        "  except:\n",
        "    return 'Invalid Entry'"
      ],
      "metadata": {
        "id": "g7r4-7VBc5AV"
      },
      "execution_count": 113,
      "outputs": []
    },
    {
      "cell_type": "code",
      "source": [
        "# Recommendations for 'A Man Called God'\n",
        "recommendation_df('A Man Called God')"
      ],
      "metadata": {
        "id": "bt5okqYUc5Cw",
        "colab": {
          "base_uri": "https://localhost:8080/"
        },
        "outputId": "21128eb6-8da9-455f-ea67-4cca04916f76"
      },
      "execution_count": 114,
      "outputs": [
        {
          "output_type": "stream",
          "name": "stdout",
          "text": [
            "If you liked 'A Man Called God', you may also enjoy:\n",
            "\n"
          ]
        },
        {
          "output_type": "execute_result",
          "data": {
            "text/plain": [
              "['Mr. Sunshine',\n",
              " 'One Spring Night',\n",
              " 'Rugal',\n",
              " 'The King: Eternal Monarch',\n",
              " 'My Mister',\n",
              " 'My Little Baby',\n",
              " 'Reply 1994',\n",
              " 'Extracurricular',\n",
              " 'Miss Panda & Mr. Hedgehog',\n",
              " 'Busted!']"
            ]
          },
          "metadata": {},
          "execution_count": 114
        }
      ]
    },
    {
      "cell_type": "code",
      "source": [
        "# Recommendations for 'Peaky Blinders'\n",
        "recommendation_df('Peaky Blinders')"
      ],
      "metadata": {
        "id": "0C6EUuZzc5GF",
        "colab": {
          "base_uri": "https://localhost:8080/"
        },
        "outputId": "004f364a-6a57-4a03-94d7-04fc8d4e03fc"
      },
      "execution_count": 115,
      "outputs": [
        {
          "output_type": "stream",
          "name": "stdout",
          "text": [
            "If you liked 'Peaky Blinders', you may also enjoy:\n",
            "\n"
          ]
        },
        {
          "output_type": "execute_result",
          "data": {
            "text/plain": [
              "['Kiss Me First',\n",
              " 'Happy Valley',\n",
              " 'London Spy',\n",
              " 'The Frankenstein Chronicles',\n",
              " 'Paranoid',\n",
              " 'Get Even',\n",
              " 'Giri / Haji',\n",
              " 'My Hotter Half',\n",
              " 'The Murder Detectives',\n",
              " 'I AM A KILLER: RELEASED']"
            ]
          },
          "metadata": {},
          "execution_count": 115
        }
      ]
    },
    {
      "cell_type": "code",
      "source": [
        "# Recommendations for 'Stranger Things'\n",
        "recommendation_df('Stranger Things')"
      ],
      "metadata": {
        "id": "f3QSDN0yc5Kc",
        "colab": {
          "base_uri": "https://localhost:8080/"
        },
        "outputId": "cf06103e-9212-4855-9fce-060f780e7f90"
      },
      "execution_count": 116,
      "outputs": [
        {
          "output_type": "stream",
          "name": "stdout",
          "text": [
            "If you liked 'Stranger Things', you may also enjoy:\n",
            "\n"
          ]
        },
        {
          "output_type": "execute_result",
          "data": {
            "text/plain": [
              "['Beyond Stranger Things',\n",
              " 'Prank Encounters',\n",
              " 'The Umbrella Academy',\n",
              " 'Haunted',\n",
              " 'Scream',\n",
              " 'Warrior Nun',\n",
              " 'Nightflyers',\n",
              " 'Zombie Dumb',\n",
              " 'Kiss Me First',\n",
              " 'The Vampire Diaries']"
            ]
          },
          "metadata": {},
          "execution_count": 116
        }
      ]
    },
    {
      "cell_type": "markdown",
      "source": [
        "#**Conclusion**"
      ],
      "metadata": {
        "id": "QPiqvUBwesCy"
      }
    },
    {
      "cell_type": "markdown",
      "source": [
        "1.In this project, we worked on a text clustering problem where in we had to classify/group the Netflix shows into certain clusters such that the shows within a cluster are similar to each other and the shows in different clusters are dissimilar to each other.\n",
        "\n",
        "\n",
        "2.The dataset contained about 7787 records, and 12 attributes.\n",
        "We began by dealing with the dataset's missing values and doing exploratory data analysis (EDA).\n",
        "\n",
        "\n",
        "3.It was found that Netflix hosts more movies than TV shows on its platform, and the total number of shows added on Netflix is growing exponentially. Also, majority of the shows were produced in the United States, and the majority of the shows on Netflix were created for adults and young adults age group.\n",
        "\n",
        "4.Once obtained the required insights from the EDA, we start with Pre-processing the text data by removing the punctuation, and, stop words. This filtered data is passed through TF - IDF Vectorizer since we are conducting a text-based clustering and the model needs the data to be vectorized in order to predict the desired results.\n",
        "\n",
        "\n",
        "5.It was decided to cluster the data based on the attributes: director, cast, country, genre, and description. The values in these attributes were tokenized, preprocessed, and then vectorized using TFIDF vectorizer.\n",
        "\n",
        "\n",
        "6.Through TFIDF Vectorization, we created a total of 20000 attributes.\n",
        "We used Principal Component Analysis (PCA) to handle the curse of dimensionality. 4000 components were able to capture more than 80% of variance, and hence, the number of components were restricted to 4000.\n",
        "We first built clusters using the k-means clustering algorithm, and the optimal number of clusters came out to be 6. This was obtained through the elbow method and Silhouette score analysis.\n",
        "\n",
        "\n",
        "7.Then clusters were built using the Agglomerative clustering algorithm, and the optimal number of clusters came out to be 12. This was obtained after visualizing the dendrogram.\n",
        "\n",
        "\n",
        "8.A content based recommender system was built using the similarity matrix obtained after using cosine similarity. This recommender system will make 10 recommendations to the user based on the type of show they watched."
      ],
      "metadata": {
        "id": "dr2ZNsLiezwv"
      }
    },
    {
      "cell_type": "markdown",
      "source": [
        "# **We Sucessfully Completed Machine Learning Unsupervised Algorithm Capstone Project !!!**"
      ],
      "metadata": {
        "id": "4ldwNhihFxFK"
      }
    }
  ]
}